{
  "nbformat": 4,
  "nbformat_minor": 0,
  "metadata": {
    "colab": {
      "provenance": [],
      "authorship_tag": "ABX9TyPyvGuQc131Gi9FWBRJ/ThS",
      "include_colab_link": true
    },
    "kernelspec": {
      "name": "python3",
      "display_name": "Python 3"
    },
    "language_info": {
      "name": "python"
    }
  },
  "cells": [
    {
      "cell_type": "markdown",
      "metadata": {
        "id": "view-in-github",
        "colab_type": "text"
      },
      "source": [
        "<a href=\"https://colab.research.google.com/github/DenisseUrenda/MachineLearning/blob/main/L10_Arboles.ipynb\" target=\"_parent\"><img src=\"https://colab.research.google.com/assets/colab-badge.svg\" alt=\"Open In Colab\"/></a>"
      ]
    },
    {
      "cell_type": "markdown",
      "source": [
        "# Arboles de decision\n",
        "\n",
        "https://scikit-learn.org/stable/modules/tree.html\n",
        "\n",
        "Los arboles de decicion son metdos de aprendizaje supervisado no parametrico usado para clasificacion y regresion. El objetivo es crear un modelo que prediga el valor de una variable de respuesta aprendiendo simples reglas de decision inferidas de las variables del conjunto.\n",
        "\n",
        "Ventajas:\n",
        "- Simples de entender e interpretar\n",
        "- Requiere poca preparacion de datos\n",
        "- Se puede usar variables numericas y categoricas\n",
        "- Es posible validar el modelo usando pruebas estadisticas\n",
        "- Su desempeno es bueno incluso si las suposiciones no se cumplen\n",
        "\n",
        "Desventajas:\n",
        "- Pueden sufrir de sobreajuste\n",
        "- Arboles de decision pueden ser inestables (pequenos cambios en los datos pueden generar resultados muy distintos)\n",
        "- Las predicciones no son continuas. Por lo que nos on buenos para extrapolacion\n"
      ],
      "metadata": {
        "id": "FJTxGI2W297Z"
      }
    },
    {
      "cell_type": "code",
      "execution_count": null,
      "metadata": {
        "id": "Jrtj6H2Y29Nt"
      },
      "outputs": [],
      "source": [
        "import numpy as np\n",
        "import pandas as pd\n",
        "import matplotlib.pyplot as plt\n",
        "from sklearn import tree"
      ]
    },
    {
      "cell_type": "code",
      "source": [
        "path = 'https://gist.githubusercontent.com/javierIA/403a1027bd6894f865a508652c338d20/raw/fd09d4255ce0ef4ab01eb6a5144c6c887f72045c/datos'\n",
        "df = pd.read_csv(path)"
      ],
      "metadata": {
        "id": "zF_vFXIU6EX8"
      },
      "execution_count": null,
      "outputs": []
    },
    {
      "cell_type": "code",
      "source": [
        "df.info()"
      ],
      "metadata": {
        "colab": {
          "base_uri": "https://localhost:8080/"
        },
        "id": "8IDtmTvS6jP5",
        "outputId": "d411a154-ee9e-444c-c8aa-32b5092d09a7"
      },
      "execution_count": null,
      "outputs": [
        {
          "output_type": "stream",
          "name": "stdout",
          "text": [
            "<class 'pandas.core.frame.DataFrame'>\n",
            "RangeIndex: 711 entries, 0 to 710\n",
            "Data columns (total 12 columns):\n",
            " #   Column       Non-Null Count  Dtype  \n",
            "---  ------       --------------  -----  \n",
            " 0   PassengerId  711 non-null    int64  \n",
            " 1   Survived     711 non-null    int64  \n",
            " 2   Pclass       711 non-null    int64  \n",
            " 3   Name         711 non-null    object \n",
            " 4   Sex          711 non-null    object \n",
            " 5   Age          711 non-null    float64\n",
            " 6   SibSp        711 non-null    int64  \n",
            " 7   Parch        711 non-null    int64  \n",
            " 8   Ticket       711 non-null    object \n",
            " 9   Fare         711 non-null    float64\n",
            " 10  Cabin        182 non-null    object \n",
            " 11  Embarked     711 non-null    object \n",
            "dtypes: float64(2), int64(5), object(5)\n",
            "memory usage: 66.8+ KB\n"
          ]
        }
      ]
    },
    {
      "cell_type": "code",
      "source": [
        "df.describe()"
      ],
      "metadata": {
        "colab": {
          "base_uri": "https://localhost:8080/",
          "height": 344
        },
        "id": "Ans8Xcf56-wP",
        "outputId": "db53038a-1273-4973-be59-867f56b5cef0"
      },
      "execution_count": null,
      "outputs": [
        {
          "output_type": "execute_result",
          "data": {
            "text/plain": [
              "       PassengerId    Survived      Pclass         Age       SibSp  \\\n",
              "count   711.000000  711.000000  711.000000  711.000000  711.000000   \n",
              "mean    448.483826    0.403657    2.241913   29.621899    0.514768   \n",
              "std     258.849806    0.490976    0.836147   14.493108    0.931147   \n",
              "min       1.000000    0.000000    1.000000    0.420000    0.000000   \n",
              "25%     222.500000    0.000000    1.000000   20.000000    0.000000   \n",
              "50%     444.000000    0.000000    2.000000   28.000000    0.000000   \n",
              "75%     677.500000    1.000000    3.000000   38.000000    1.000000   \n",
              "max     891.000000    1.000000    3.000000   80.000000    5.000000   \n",
              "\n",
              "            Parch        Fare  \n",
              "count  711.000000  711.000000  \n",
              "mean     0.431786   34.534323  \n",
              "std      0.854517   52.968619  \n",
              "min      0.000000    0.000000  \n",
              "25%      0.000000    8.050000  \n",
              "50%      0.000000   15.550000  \n",
              "75%      1.000000   32.750000  \n",
              "max      6.000000  512.329200  "
            ],
            "text/html": [
              "\n",
              "\n",
              "  <div id=\"df-9fc29830-cfce-4590-9bc0-3f2895f9c444\">\n",
              "    <div class=\"colab-df-container\">\n",
              "      <div>\n",
              "<style scoped>\n",
              "    .dataframe tbody tr th:only-of-type {\n",
              "        vertical-align: middle;\n",
              "    }\n",
              "\n",
              "    .dataframe tbody tr th {\n",
              "        vertical-align: top;\n",
              "    }\n",
              "\n",
              "    .dataframe thead th {\n",
              "        text-align: right;\n",
              "    }\n",
              "</style>\n",
              "<table border=\"1\" class=\"dataframe\">\n",
              "  <thead>\n",
              "    <tr style=\"text-align: right;\">\n",
              "      <th></th>\n",
              "      <th>PassengerId</th>\n",
              "      <th>Survived</th>\n",
              "      <th>Pclass</th>\n",
              "      <th>Age</th>\n",
              "      <th>SibSp</th>\n",
              "      <th>Parch</th>\n",
              "      <th>Fare</th>\n",
              "    </tr>\n",
              "  </thead>\n",
              "  <tbody>\n",
              "    <tr>\n",
              "      <th>count</th>\n",
              "      <td>711.000000</td>\n",
              "      <td>711.000000</td>\n",
              "      <td>711.000000</td>\n",
              "      <td>711.000000</td>\n",
              "      <td>711.000000</td>\n",
              "      <td>711.000000</td>\n",
              "      <td>711.000000</td>\n",
              "    </tr>\n",
              "    <tr>\n",
              "      <th>mean</th>\n",
              "      <td>448.483826</td>\n",
              "      <td>0.403657</td>\n",
              "      <td>2.241913</td>\n",
              "      <td>29.621899</td>\n",
              "      <td>0.514768</td>\n",
              "      <td>0.431786</td>\n",
              "      <td>34.534323</td>\n",
              "    </tr>\n",
              "    <tr>\n",
              "      <th>std</th>\n",
              "      <td>258.849806</td>\n",
              "      <td>0.490976</td>\n",
              "      <td>0.836147</td>\n",
              "      <td>14.493108</td>\n",
              "      <td>0.931147</td>\n",
              "      <td>0.854517</td>\n",
              "      <td>52.968619</td>\n",
              "    </tr>\n",
              "    <tr>\n",
              "      <th>min</th>\n",
              "      <td>1.000000</td>\n",
              "      <td>0.000000</td>\n",
              "      <td>1.000000</td>\n",
              "      <td>0.420000</td>\n",
              "      <td>0.000000</td>\n",
              "      <td>0.000000</td>\n",
              "      <td>0.000000</td>\n",
              "    </tr>\n",
              "    <tr>\n",
              "      <th>25%</th>\n",
              "      <td>222.500000</td>\n",
              "      <td>0.000000</td>\n",
              "      <td>1.000000</td>\n",
              "      <td>20.000000</td>\n",
              "      <td>0.000000</td>\n",
              "      <td>0.000000</td>\n",
              "      <td>8.050000</td>\n",
              "    </tr>\n",
              "    <tr>\n",
              "      <th>50%</th>\n",
              "      <td>444.000000</td>\n",
              "      <td>0.000000</td>\n",
              "      <td>2.000000</td>\n",
              "      <td>28.000000</td>\n",
              "      <td>0.000000</td>\n",
              "      <td>0.000000</td>\n",
              "      <td>15.550000</td>\n",
              "    </tr>\n",
              "    <tr>\n",
              "      <th>75%</th>\n",
              "      <td>677.500000</td>\n",
              "      <td>1.000000</td>\n",
              "      <td>3.000000</td>\n",
              "      <td>38.000000</td>\n",
              "      <td>1.000000</td>\n",
              "      <td>1.000000</td>\n",
              "      <td>32.750000</td>\n",
              "    </tr>\n",
              "    <tr>\n",
              "      <th>max</th>\n",
              "      <td>891.000000</td>\n",
              "      <td>1.000000</td>\n",
              "      <td>3.000000</td>\n",
              "      <td>80.000000</td>\n",
              "      <td>5.000000</td>\n",
              "      <td>6.000000</td>\n",
              "      <td>512.329200</td>\n",
              "    </tr>\n",
              "  </tbody>\n",
              "</table>\n",
              "</div>\n",
              "      <button class=\"colab-df-convert\" onclick=\"convertToInteractive('df-9fc29830-cfce-4590-9bc0-3f2895f9c444')\"\n",
              "              title=\"Convert this dataframe to an interactive table.\"\n",
              "              style=\"display:none;\">\n",
              "\n",
              "  <svg xmlns=\"http://www.w3.org/2000/svg\" height=\"24px\"viewBox=\"0 0 24 24\"\n",
              "       width=\"24px\">\n",
              "    <path d=\"M0 0h24v24H0V0z\" fill=\"none\"/>\n",
              "    <path d=\"M18.56 5.44l.94 2.06.94-2.06 2.06-.94-2.06-.94-.94-2.06-.94 2.06-2.06.94zm-11 1L8.5 8.5l.94-2.06 2.06-.94-2.06-.94L8.5 2.5l-.94 2.06-2.06.94zm10 10l.94 2.06.94-2.06 2.06-.94-2.06-.94-.94-2.06-.94 2.06-2.06.94z\"/><path d=\"M17.41 7.96l-1.37-1.37c-.4-.4-.92-.59-1.43-.59-.52 0-1.04.2-1.43.59L10.3 9.45l-7.72 7.72c-.78.78-.78 2.05 0 2.83L4 21.41c.39.39.9.59 1.41.59.51 0 1.02-.2 1.41-.59l7.78-7.78 2.81-2.81c.8-.78.8-2.07 0-2.86zM5.41 20L4 18.59l7.72-7.72 1.47 1.35L5.41 20z\"/>\n",
              "  </svg>\n",
              "      </button>\n",
              "\n",
              "\n",
              "\n",
              "    <div id=\"df-2cda5071-4351-4e6d-a3e6-fd0db226ddb6\">\n",
              "      <button class=\"colab-df-quickchart\" onclick=\"quickchart('df-2cda5071-4351-4e6d-a3e6-fd0db226ddb6')\"\n",
              "              title=\"Suggest charts.\"\n",
              "              style=\"display:none;\">\n",
              "\n",
              "<svg xmlns=\"http://www.w3.org/2000/svg\" height=\"24px\"viewBox=\"0 0 24 24\"\n",
              "     width=\"24px\">\n",
              "    <g>\n",
              "        <path d=\"M19 3H5c-1.1 0-2 .9-2 2v14c0 1.1.9 2 2 2h14c1.1 0 2-.9 2-2V5c0-1.1-.9-2-2-2zM9 17H7v-7h2v7zm4 0h-2V7h2v10zm4 0h-2v-4h2v4z\"/>\n",
              "    </g>\n",
              "</svg>\n",
              "      </button>\n",
              "    </div>\n",
              "\n",
              "<style>\n",
              "  .colab-df-quickchart {\n",
              "    background-color: #E8F0FE;\n",
              "    border: none;\n",
              "    border-radius: 50%;\n",
              "    cursor: pointer;\n",
              "    display: none;\n",
              "    fill: #1967D2;\n",
              "    height: 32px;\n",
              "    padding: 0 0 0 0;\n",
              "    width: 32px;\n",
              "  }\n",
              "\n",
              "  .colab-df-quickchart:hover {\n",
              "    background-color: #E2EBFA;\n",
              "    box-shadow: 0px 1px 2px rgba(60, 64, 67, 0.3), 0px 1px 3px 1px rgba(60, 64, 67, 0.15);\n",
              "    fill: #174EA6;\n",
              "  }\n",
              "\n",
              "  [theme=dark] .colab-df-quickchart {\n",
              "    background-color: #3B4455;\n",
              "    fill: #D2E3FC;\n",
              "  }\n",
              "\n",
              "  [theme=dark] .colab-df-quickchart:hover {\n",
              "    background-color: #434B5C;\n",
              "    box-shadow: 0px 1px 3px 1px rgba(0, 0, 0, 0.15);\n",
              "    filter: drop-shadow(0px 1px 2px rgba(0, 0, 0, 0.3));\n",
              "    fill: #FFFFFF;\n",
              "  }\n",
              "</style>\n",
              "\n",
              "    <script>\n",
              "      async function quickchart(key) {\n",
              "        const containerElement = document.querySelector('#' + key);\n",
              "        const charts = await google.colab.kernel.invokeFunction(\n",
              "            'suggestCharts', [key], {});\n",
              "      }\n",
              "    </script>\n",
              "\n",
              "      <script>\n",
              "\n",
              "function displayQuickchartButton(domScope) {\n",
              "  let quickchartButtonEl =\n",
              "    domScope.querySelector('#df-2cda5071-4351-4e6d-a3e6-fd0db226ddb6 button.colab-df-quickchart');\n",
              "  quickchartButtonEl.style.display =\n",
              "    google.colab.kernel.accessAllowed ? 'block' : 'none';\n",
              "}\n",
              "\n",
              "        displayQuickchartButton(document);\n",
              "      </script>\n",
              "      <style>\n",
              "    .colab-df-container {\n",
              "      display:flex;\n",
              "      flex-wrap:wrap;\n",
              "      gap: 12px;\n",
              "    }\n",
              "\n",
              "    .colab-df-convert {\n",
              "      background-color: #E8F0FE;\n",
              "      border: none;\n",
              "      border-radius: 50%;\n",
              "      cursor: pointer;\n",
              "      display: none;\n",
              "      fill: #1967D2;\n",
              "      height: 32px;\n",
              "      padding: 0 0 0 0;\n",
              "      width: 32px;\n",
              "    }\n",
              "\n",
              "    .colab-df-convert:hover {\n",
              "      background-color: #E2EBFA;\n",
              "      box-shadow: 0px 1px 2px rgba(60, 64, 67, 0.3), 0px 1px 3px 1px rgba(60, 64, 67, 0.15);\n",
              "      fill: #174EA6;\n",
              "    }\n",
              "\n",
              "    [theme=dark] .colab-df-convert {\n",
              "      background-color: #3B4455;\n",
              "      fill: #D2E3FC;\n",
              "    }\n",
              "\n",
              "    [theme=dark] .colab-df-convert:hover {\n",
              "      background-color: #434B5C;\n",
              "      box-shadow: 0px 1px 3px 1px rgba(0, 0, 0, 0.15);\n",
              "      filter: drop-shadow(0px 1px 2px rgba(0, 0, 0, 0.3));\n",
              "      fill: #FFFFFF;\n",
              "    }\n",
              "  </style>\n",
              "\n",
              "      <script>\n",
              "        const buttonEl =\n",
              "          document.querySelector('#df-9fc29830-cfce-4590-9bc0-3f2895f9c444 button.colab-df-convert');\n",
              "        buttonEl.style.display =\n",
              "          google.colab.kernel.accessAllowed ? 'block' : 'none';\n",
              "\n",
              "        async function convertToInteractive(key) {\n",
              "          const element = document.querySelector('#df-9fc29830-cfce-4590-9bc0-3f2895f9c444');\n",
              "          const dataTable =\n",
              "            await google.colab.kernel.invokeFunction('convertToInteractive',\n",
              "                                                     [key], {});\n",
              "          if (!dataTable) return;\n",
              "\n",
              "          const docLinkHtml = 'Like what you see? Visit the ' +\n",
              "            '<a target=\"_blank\" href=https://colab.research.google.com/notebooks/data_table.ipynb>data table notebook</a>'\n",
              "            + ' to learn more about interactive tables.';\n",
              "          element.innerHTML = '';\n",
              "          dataTable['output_type'] = 'display_data';\n",
              "          await google.colab.output.renderOutput(dataTable, element);\n",
              "          const docLink = document.createElement('div');\n",
              "          docLink.innerHTML = docLinkHtml;\n",
              "          element.appendChild(docLink);\n",
              "        }\n",
              "      </script>\n",
              "    </div>\n",
              "  </div>\n"
            ]
          },
          "metadata": {},
          "execution_count": 4
        }
      ]
    },
    {
      "cell_type": "code",
      "source": [
        "# Cambiando variables categoricas a nnumericas\n",
        "# male = 1, female = 0\n",
        "\n",
        "df = pd.get_dummies(df, columns=['Sex'], drop_first=True)"
      ],
      "metadata": {
        "id": "vsi_psgl7Opv"
      },
      "execution_count": null,
      "outputs": []
    },
    {
      "cell_type": "code",
      "source": [
        "data = df[['Sex_male','Fare','Age','Pclass','SibSp','Survived']]\n",
        "data.head()"
      ],
      "metadata": {
        "colab": {
          "base_uri": "https://localhost:8080/",
          "height": 206
        },
        "id": "itFeA-q-8Twr",
        "outputId": "af3691fc-81b2-4a1c-8249-9c2d181401bb"
      },
      "execution_count": null,
      "outputs": [
        {
          "output_type": "execute_result",
          "data": {
            "text/plain": [
              "   Sex_male     Fare   Age  Pclass  SibSp  Survived\n",
              "0         1   7.2500  22.0       3      1         0\n",
              "1         0  71.2833  38.0       1      1         1\n",
              "2         0   7.9250  26.0       3      0         1\n",
              "3         0  53.1000  35.0       1      1         1\n",
              "4         1   8.0500  35.0       3      0         0"
            ],
            "text/html": [
              "\n",
              "\n",
              "  <div id=\"df-c8e9866e-292c-4793-b32a-767df654b767\">\n",
              "    <div class=\"colab-df-container\">\n",
              "      <div>\n",
              "<style scoped>\n",
              "    .dataframe tbody tr th:only-of-type {\n",
              "        vertical-align: middle;\n",
              "    }\n",
              "\n",
              "    .dataframe tbody tr th {\n",
              "        vertical-align: top;\n",
              "    }\n",
              "\n",
              "    .dataframe thead th {\n",
              "        text-align: right;\n",
              "    }\n",
              "</style>\n",
              "<table border=\"1\" class=\"dataframe\">\n",
              "  <thead>\n",
              "    <tr style=\"text-align: right;\">\n",
              "      <th></th>\n",
              "      <th>Sex_male</th>\n",
              "      <th>Fare</th>\n",
              "      <th>Age</th>\n",
              "      <th>Pclass</th>\n",
              "      <th>SibSp</th>\n",
              "      <th>Survived</th>\n",
              "    </tr>\n",
              "  </thead>\n",
              "  <tbody>\n",
              "    <tr>\n",
              "      <th>0</th>\n",
              "      <td>1</td>\n",
              "      <td>7.2500</td>\n",
              "      <td>22.0</td>\n",
              "      <td>3</td>\n",
              "      <td>1</td>\n",
              "      <td>0</td>\n",
              "    </tr>\n",
              "    <tr>\n",
              "      <th>1</th>\n",
              "      <td>0</td>\n",
              "      <td>71.2833</td>\n",
              "      <td>38.0</td>\n",
              "      <td>1</td>\n",
              "      <td>1</td>\n",
              "      <td>1</td>\n",
              "    </tr>\n",
              "    <tr>\n",
              "      <th>2</th>\n",
              "      <td>0</td>\n",
              "      <td>7.9250</td>\n",
              "      <td>26.0</td>\n",
              "      <td>3</td>\n",
              "      <td>0</td>\n",
              "      <td>1</td>\n",
              "    </tr>\n",
              "    <tr>\n",
              "      <th>3</th>\n",
              "      <td>0</td>\n",
              "      <td>53.1000</td>\n",
              "      <td>35.0</td>\n",
              "      <td>1</td>\n",
              "      <td>1</td>\n",
              "      <td>1</td>\n",
              "    </tr>\n",
              "    <tr>\n",
              "      <th>4</th>\n",
              "      <td>1</td>\n",
              "      <td>8.0500</td>\n",
              "      <td>35.0</td>\n",
              "      <td>3</td>\n",
              "      <td>0</td>\n",
              "      <td>0</td>\n",
              "    </tr>\n",
              "  </tbody>\n",
              "</table>\n",
              "</div>\n",
              "      <button class=\"colab-df-convert\" onclick=\"convertToInteractive('df-c8e9866e-292c-4793-b32a-767df654b767')\"\n",
              "              title=\"Convert this dataframe to an interactive table.\"\n",
              "              style=\"display:none;\">\n",
              "\n",
              "  <svg xmlns=\"http://www.w3.org/2000/svg\" height=\"24px\"viewBox=\"0 0 24 24\"\n",
              "       width=\"24px\">\n",
              "    <path d=\"M0 0h24v24H0V0z\" fill=\"none\"/>\n",
              "    <path d=\"M18.56 5.44l.94 2.06.94-2.06 2.06-.94-2.06-.94-.94-2.06-.94 2.06-2.06.94zm-11 1L8.5 8.5l.94-2.06 2.06-.94-2.06-.94L8.5 2.5l-.94 2.06-2.06.94zm10 10l.94 2.06.94-2.06 2.06-.94-2.06-.94-.94-2.06-.94 2.06-2.06.94z\"/><path d=\"M17.41 7.96l-1.37-1.37c-.4-.4-.92-.59-1.43-.59-.52 0-1.04.2-1.43.59L10.3 9.45l-7.72 7.72c-.78.78-.78 2.05 0 2.83L4 21.41c.39.39.9.59 1.41.59.51 0 1.02-.2 1.41-.59l7.78-7.78 2.81-2.81c.8-.78.8-2.07 0-2.86zM5.41 20L4 18.59l7.72-7.72 1.47 1.35L5.41 20z\"/>\n",
              "  </svg>\n",
              "      </button>\n",
              "\n",
              "\n",
              "\n",
              "    <div id=\"df-88b5842a-76e1-4d71-8400-b33e8f8c269a\">\n",
              "      <button class=\"colab-df-quickchart\" onclick=\"quickchart('df-88b5842a-76e1-4d71-8400-b33e8f8c269a')\"\n",
              "              title=\"Suggest charts.\"\n",
              "              style=\"display:none;\">\n",
              "\n",
              "<svg xmlns=\"http://www.w3.org/2000/svg\" height=\"24px\"viewBox=\"0 0 24 24\"\n",
              "     width=\"24px\">\n",
              "    <g>\n",
              "        <path d=\"M19 3H5c-1.1 0-2 .9-2 2v14c0 1.1.9 2 2 2h14c1.1 0 2-.9 2-2V5c0-1.1-.9-2-2-2zM9 17H7v-7h2v7zm4 0h-2V7h2v10zm4 0h-2v-4h2v4z\"/>\n",
              "    </g>\n",
              "</svg>\n",
              "      </button>\n",
              "    </div>\n",
              "\n",
              "<style>\n",
              "  .colab-df-quickchart {\n",
              "    background-color: #E8F0FE;\n",
              "    border: none;\n",
              "    border-radius: 50%;\n",
              "    cursor: pointer;\n",
              "    display: none;\n",
              "    fill: #1967D2;\n",
              "    height: 32px;\n",
              "    padding: 0 0 0 0;\n",
              "    width: 32px;\n",
              "  }\n",
              "\n",
              "  .colab-df-quickchart:hover {\n",
              "    background-color: #E2EBFA;\n",
              "    box-shadow: 0px 1px 2px rgba(60, 64, 67, 0.3), 0px 1px 3px 1px rgba(60, 64, 67, 0.15);\n",
              "    fill: #174EA6;\n",
              "  }\n",
              "\n",
              "  [theme=dark] .colab-df-quickchart {\n",
              "    background-color: #3B4455;\n",
              "    fill: #D2E3FC;\n",
              "  }\n",
              "\n",
              "  [theme=dark] .colab-df-quickchart:hover {\n",
              "    background-color: #434B5C;\n",
              "    box-shadow: 0px 1px 3px 1px rgba(0, 0, 0, 0.15);\n",
              "    filter: drop-shadow(0px 1px 2px rgba(0, 0, 0, 0.3));\n",
              "    fill: #FFFFFF;\n",
              "  }\n",
              "</style>\n",
              "\n",
              "    <script>\n",
              "      async function quickchart(key) {\n",
              "        const containerElement = document.querySelector('#' + key);\n",
              "        const charts = await google.colab.kernel.invokeFunction(\n",
              "            'suggestCharts', [key], {});\n",
              "      }\n",
              "    </script>\n",
              "\n",
              "      <script>\n",
              "\n",
              "function displayQuickchartButton(domScope) {\n",
              "  let quickchartButtonEl =\n",
              "    domScope.querySelector('#df-88b5842a-76e1-4d71-8400-b33e8f8c269a button.colab-df-quickchart');\n",
              "  quickchartButtonEl.style.display =\n",
              "    google.colab.kernel.accessAllowed ? 'block' : 'none';\n",
              "}\n",
              "\n",
              "        displayQuickchartButton(document);\n",
              "      </script>\n",
              "      <style>\n",
              "    .colab-df-container {\n",
              "      display:flex;\n",
              "      flex-wrap:wrap;\n",
              "      gap: 12px;\n",
              "    }\n",
              "\n",
              "    .colab-df-convert {\n",
              "      background-color: #E8F0FE;\n",
              "      border: none;\n",
              "      border-radius: 50%;\n",
              "      cursor: pointer;\n",
              "      display: none;\n",
              "      fill: #1967D2;\n",
              "      height: 32px;\n",
              "      padding: 0 0 0 0;\n",
              "      width: 32px;\n",
              "    }\n",
              "\n",
              "    .colab-df-convert:hover {\n",
              "      background-color: #E2EBFA;\n",
              "      box-shadow: 0px 1px 2px rgba(60, 64, 67, 0.3), 0px 1px 3px 1px rgba(60, 64, 67, 0.15);\n",
              "      fill: #174EA6;\n",
              "    }\n",
              "\n",
              "    [theme=dark] .colab-df-convert {\n",
              "      background-color: #3B4455;\n",
              "      fill: #D2E3FC;\n",
              "    }\n",
              "\n",
              "    [theme=dark] .colab-df-convert:hover {\n",
              "      background-color: #434B5C;\n",
              "      box-shadow: 0px 1px 3px 1px rgba(0, 0, 0, 0.15);\n",
              "      filter: drop-shadow(0px 1px 2px rgba(0, 0, 0, 0.3));\n",
              "      fill: #FFFFFF;\n",
              "    }\n",
              "  </style>\n",
              "\n",
              "      <script>\n",
              "        const buttonEl =\n",
              "          document.querySelector('#df-c8e9866e-292c-4793-b32a-767df654b767 button.colab-df-convert');\n",
              "        buttonEl.style.display =\n",
              "          google.colab.kernel.accessAllowed ? 'block' : 'none';\n",
              "\n",
              "        async function convertToInteractive(key) {\n",
              "          const element = document.querySelector('#df-c8e9866e-292c-4793-b32a-767df654b767');\n",
              "          const dataTable =\n",
              "            await google.colab.kernel.invokeFunction('convertToInteractive',\n",
              "                                                     [key], {});\n",
              "          if (!dataTable) return;\n",
              "\n",
              "          const docLinkHtml = 'Like what you see? Visit the ' +\n",
              "            '<a target=\"_blank\" href=https://colab.research.google.com/notebooks/data_table.ipynb>data table notebook</a>'\n",
              "            + ' to learn more about interactive tables.';\n",
              "          element.innerHTML = '';\n",
              "          dataTable['output_type'] = 'display_data';\n",
              "          await google.colab.output.renderOutput(dataTable, element);\n",
              "          const docLink = document.createElement('div');\n",
              "          docLink.innerHTML = docLinkHtml;\n",
              "          element.appendChild(docLink);\n",
              "        }\n",
              "      </script>\n",
              "    </div>\n",
              "  </div>\n"
            ]
          },
          "metadata": {},
          "execution_count": 6
        }
      ]
    },
    {
      "cell_type": "code",
      "source": [
        "from sklearn.model_selection import train_test_split\n",
        "\n",
        "X = data.iloc[:,:-1]\n",
        "y = data.Survived\n",
        "\n",
        "X_train, X_test, y_train, y_test = \\\n",
        "    train_test_split(X, y, test_size=0.25)"
      ],
      "metadata": {
        "id": "1yooEOlK80dc"
      },
      "execution_count": null,
      "outputs": []
    },
    {
      "cell_type": "code",
      "source": [
        "clf = tree.DecisionTreeClassifier(max_leaf_nodes=10)\n",
        "clf.fit(X_train, y_train)"
      ],
      "metadata": {
        "colab": {
          "base_uri": "https://localhost:8080/",
          "height": 74
        },
        "id": "fHJWNGYV9B_F",
        "outputId": "81509689-922c-41ad-df74-3a37fc945629"
      },
      "execution_count": null,
      "outputs": [
        {
          "output_type": "execute_result",
          "data": {
            "text/plain": [
              "DecisionTreeClassifier(max_leaf_nodes=10)"
            ],
            "text/html": [
              "<style>#sk-container-id-1 {color: black;background-color: white;}#sk-container-id-1 pre{padding: 0;}#sk-container-id-1 div.sk-toggleable {background-color: white;}#sk-container-id-1 label.sk-toggleable__label {cursor: pointer;display: block;width: 100%;margin-bottom: 0;padding: 0.3em;box-sizing: border-box;text-align: center;}#sk-container-id-1 label.sk-toggleable__label-arrow:before {content: \"▸\";float: left;margin-right: 0.25em;color: #696969;}#sk-container-id-1 label.sk-toggleable__label-arrow:hover:before {color: black;}#sk-container-id-1 div.sk-estimator:hover label.sk-toggleable__label-arrow:before {color: black;}#sk-container-id-1 div.sk-toggleable__content {max-height: 0;max-width: 0;overflow: hidden;text-align: left;background-color: #f0f8ff;}#sk-container-id-1 div.sk-toggleable__content pre {margin: 0.2em;color: black;border-radius: 0.25em;background-color: #f0f8ff;}#sk-container-id-1 input.sk-toggleable__control:checked~div.sk-toggleable__content {max-height: 200px;max-width: 100%;overflow: auto;}#sk-container-id-1 input.sk-toggleable__control:checked~label.sk-toggleable__label-arrow:before {content: \"▾\";}#sk-container-id-1 div.sk-estimator input.sk-toggleable__control:checked~label.sk-toggleable__label {background-color: #d4ebff;}#sk-container-id-1 div.sk-label input.sk-toggleable__control:checked~label.sk-toggleable__label {background-color: #d4ebff;}#sk-container-id-1 input.sk-hidden--visually {border: 0;clip: rect(1px 1px 1px 1px);clip: rect(1px, 1px, 1px, 1px);height: 1px;margin: -1px;overflow: hidden;padding: 0;position: absolute;width: 1px;}#sk-container-id-1 div.sk-estimator {font-family: monospace;background-color: #f0f8ff;border: 1px dotted black;border-radius: 0.25em;box-sizing: border-box;margin-bottom: 0.5em;}#sk-container-id-1 div.sk-estimator:hover {background-color: #d4ebff;}#sk-container-id-1 div.sk-parallel-item::after {content: \"\";width: 100%;border-bottom: 1px solid gray;flex-grow: 1;}#sk-container-id-1 div.sk-label:hover label.sk-toggleable__label {background-color: #d4ebff;}#sk-container-id-1 div.sk-serial::before {content: \"\";position: absolute;border-left: 1px solid gray;box-sizing: border-box;top: 0;bottom: 0;left: 50%;z-index: 0;}#sk-container-id-1 div.sk-serial {display: flex;flex-direction: column;align-items: center;background-color: white;padding-right: 0.2em;padding-left: 0.2em;position: relative;}#sk-container-id-1 div.sk-item {position: relative;z-index: 1;}#sk-container-id-1 div.sk-parallel {display: flex;align-items: stretch;justify-content: center;background-color: white;position: relative;}#sk-container-id-1 div.sk-item::before, #sk-container-id-1 div.sk-parallel-item::before {content: \"\";position: absolute;border-left: 1px solid gray;box-sizing: border-box;top: 0;bottom: 0;left: 50%;z-index: -1;}#sk-container-id-1 div.sk-parallel-item {display: flex;flex-direction: column;z-index: 1;position: relative;background-color: white;}#sk-container-id-1 div.sk-parallel-item:first-child::after {align-self: flex-end;width: 50%;}#sk-container-id-1 div.sk-parallel-item:last-child::after {align-self: flex-start;width: 50%;}#sk-container-id-1 div.sk-parallel-item:only-child::after {width: 0;}#sk-container-id-1 div.sk-dashed-wrapped {border: 1px dashed gray;margin: 0 0.4em 0.5em 0.4em;box-sizing: border-box;padding-bottom: 0.4em;background-color: white;}#sk-container-id-1 div.sk-label label {font-family: monospace;font-weight: bold;display: inline-block;line-height: 1.2em;}#sk-container-id-1 div.sk-label-container {text-align: center;}#sk-container-id-1 div.sk-container {/* jupyter's `normalize.less` sets `[hidden] { display: none; }` but bootstrap.min.css set `[hidden] { display: none !important; }` so we also need the `!important` here to be able to override the default hidden behavior on the sphinx rendered scikit-learn.org. See: https://github.com/scikit-learn/scikit-learn/issues/21755 */display: inline-block !important;position: relative;}#sk-container-id-1 div.sk-text-repr-fallback {display: none;}</style><div id=\"sk-container-id-1\" class=\"sk-top-container\"><div class=\"sk-text-repr-fallback\"><pre>DecisionTreeClassifier(max_leaf_nodes=10)</pre><b>In a Jupyter environment, please rerun this cell to show the HTML representation or trust the notebook. <br />On GitHub, the HTML representation is unable to render, please try loading this page with nbviewer.org.</b></div><div class=\"sk-container\" hidden><div class=\"sk-item\"><div class=\"sk-estimator sk-toggleable\"><input class=\"sk-toggleable__control sk-hidden--visually\" id=\"sk-estimator-id-1\" type=\"checkbox\" checked><label for=\"sk-estimator-id-1\" class=\"sk-toggleable__label sk-toggleable__label-arrow\">DecisionTreeClassifier</label><div class=\"sk-toggleable__content\"><pre>DecisionTreeClassifier(max_leaf_nodes=10)</pre></div></div></div></div></div>"
            ]
          },
          "metadata": {},
          "execution_count": 8
        }
      ]
    },
    {
      "cell_type": "code",
      "source": [
        "from sklearn.metrics import accuracy_score\n",
        "\n",
        "y_pred = clf.predict(X_test)\n",
        "accuracy_score(y_test, y_pred)\n"
      ],
      "metadata": {
        "colab": {
          "base_uri": "https://localhost:8080/"
        },
        "id": "4n1qaLbA9xa2",
        "outputId": "9cf9b749-0e25-4623-dd31-74560902f857"
      },
      "execution_count": null,
      "outputs": [
        {
          "output_type": "execute_result",
          "data": {
            "text/plain": [
              "0.8033707865168539"
            ]
          },
          "metadata": {},
          "execution_count": 9
        }
      ]
    },
    {
      "cell_type": "code",
      "source": [
        "import graphviz"
      ],
      "metadata": {
        "id": "J8MYAq-h-U5x"
      },
      "execution_count": null,
      "outputs": []
    },
    {
      "cell_type": "code",
      "source": [
        "dot = tree.export_graphviz(clf, out_file=None, feature_names=X.columns,\n",
        "                     class_names = ['Not Survived', 'Survived'],\n",
        "                     filled=True, rounded=True, leaves_parallel=True)\n",
        "graphviz.Source(dot)"
      ],
      "metadata": {
        "colab": {
          "base_uri": "https://localhost:8080/",
          "height": 788
        },
        "id": "QyvnbEgR-dtF",
        "outputId": "7675cf6c-61e7-40e3-f8e2-7ade6ff2358f"
      },
      "execution_count": null,
      "outputs": [
        {
          "output_type": "execute_result",
          "data": {
            "image/svg+xml": "<?xml version=\"1.0\" encoding=\"UTF-8\" standalone=\"no\"?>\n<!DOCTYPE svg PUBLIC \"-//W3C//DTD SVG 1.1//EN\"\n \"http://www.w3.org/Graphics/SVG/1.1/DTD/svg11.dtd\">\n<!-- Generated by graphviz version 2.43.0 (0)\n -->\n<!-- Title: Tree Pages: 1 -->\n<svg width=\"1474pt\" height=\"560pt\"\n viewBox=\"0.00 0.00 1474.00 559.50\" xmlns=\"http://www.w3.org/2000/svg\" xmlns:xlink=\"http://www.w3.org/1999/xlink\">\n<g id=\"graph0\" class=\"graph\" transform=\"scale(1 1) rotate(0) translate(4 555.5)\">\n<title>Tree</title>\n<polygon fill=\"white\" stroke=\"transparent\" points=\"-4,4 -4,-555.5 1470,-555.5 1470,4 -4,4\"/>\n<!-- 0 -->\n<g id=\"node1\" class=\"node\">\n<title>0</title>\n<path fill=\"#f6d6be\" stroke=\"black\" d=\"M785,-551.5C785,-551.5 669,-551.5 669,-551.5 663,-551.5 657,-545.5 657,-539.5 657,-539.5 657,-480.5 657,-480.5 657,-474.5 663,-468.5 669,-468.5 669,-468.5 785,-468.5 785,-468.5 791,-468.5 797,-474.5 797,-480.5 797,-480.5 797,-539.5 797,-539.5 797,-545.5 791,-551.5 785,-551.5\"/>\n<text text-anchor=\"middle\" x=\"727\" y=\"-536.3\" font-family=\"Helvetica,sans-Serif\" font-size=\"14.00\">Sex_male &lt;= 0.5</text>\n<text text-anchor=\"middle\" x=\"727\" y=\"-521.3\" font-family=\"Helvetica,sans-Serif\" font-size=\"14.00\">gini = 0.481</text>\n<text text-anchor=\"middle\" x=\"727\" y=\"-506.3\" font-family=\"Helvetica,sans-Serif\" font-size=\"14.00\">samples = 533</text>\n<text text-anchor=\"middle\" x=\"727\" y=\"-491.3\" font-family=\"Helvetica,sans-Serif\" font-size=\"14.00\">value = [319, 214]</text>\n<text text-anchor=\"middle\" x=\"727\" y=\"-476.3\" font-family=\"Helvetica,sans-Serif\" font-size=\"14.00\">class = Not Survived</text>\n</g>\n<!-- 1 -->\n<g id=\"node2\" class=\"node\">\n<title>1</title>\n<path fill=\"#7ebfee\" stroke=\"black\" d=\"M621.5,-432.5C621.5,-432.5 528.5,-432.5 528.5,-432.5 522.5,-432.5 516.5,-426.5 516.5,-420.5 516.5,-420.5 516.5,-361.5 516.5,-361.5 516.5,-355.5 522.5,-349.5 528.5,-349.5 528.5,-349.5 621.5,-349.5 621.5,-349.5 627.5,-349.5 633.5,-355.5 633.5,-361.5 633.5,-361.5 633.5,-420.5 633.5,-420.5 633.5,-426.5 627.5,-432.5 621.5,-432.5\"/>\n<text text-anchor=\"middle\" x=\"575\" y=\"-417.3\" font-family=\"Helvetica,sans-Serif\" font-size=\"14.00\">Pclass &lt;= 2.5</text>\n<text text-anchor=\"middle\" x=\"575\" y=\"-402.3\" font-family=\"Helvetica,sans-Serif\" font-size=\"14.00\">gini = 0.384</text>\n<text text-anchor=\"middle\" x=\"575\" y=\"-387.3\" font-family=\"Helvetica,sans-Serif\" font-size=\"14.00\">samples = 193</text>\n<text text-anchor=\"middle\" x=\"575\" y=\"-372.3\" font-family=\"Helvetica,sans-Serif\" font-size=\"14.00\">value = [50, 143]</text>\n<text text-anchor=\"middle\" x=\"575\" y=\"-357.3\" font-family=\"Helvetica,sans-Serif\" font-size=\"14.00\">class = Survived</text>\n</g>\n<!-- 0&#45;&gt;1 -->\n<g id=\"edge1\" class=\"edge\">\n<title>0&#45;&gt;1</title>\n<path fill=\"none\" stroke=\"black\" d=\"M674.26,-468.41C661.88,-458.88 648.59,-448.65 635.89,-438.87\"/>\n<polygon fill=\"black\" stroke=\"black\" points=\"637.7,-435.85 627.64,-432.52 633.43,-441.39 637.7,-435.85\"/>\n<text text-anchor=\"middle\" x=\"630.87\" y=\"-453.61\" font-family=\"Helvetica,sans-Serif\" font-size=\"14.00\">True</text>\n</g>\n<!-- 2 -->\n<g id=\"node11\" class=\"node\">\n<title>2</title>\n<path fill=\"#eca26d\" stroke=\"black\" d=\"M925,-432.5C925,-432.5 809,-432.5 809,-432.5 803,-432.5 797,-426.5 797,-420.5 797,-420.5 797,-361.5 797,-361.5 797,-355.5 803,-349.5 809,-349.5 809,-349.5 925,-349.5 925,-349.5 931,-349.5 937,-355.5 937,-361.5 937,-361.5 937,-420.5 937,-420.5 937,-426.5 931,-432.5 925,-432.5\"/>\n<text text-anchor=\"middle\" x=\"867\" y=\"-417.3\" font-family=\"Helvetica,sans-Serif\" font-size=\"14.00\">Pclass &lt;= 1.5</text>\n<text text-anchor=\"middle\" x=\"867\" y=\"-402.3\" font-family=\"Helvetica,sans-Serif\" font-size=\"14.00\">gini = 0.33</text>\n<text text-anchor=\"middle\" x=\"867\" y=\"-387.3\" font-family=\"Helvetica,sans-Serif\" font-size=\"14.00\">samples = 340</text>\n<text text-anchor=\"middle\" x=\"867\" y=\"-372.3\" font-family=\"Helvetica,sans-Serif\" font-size=\"14.00\">value = [269, 71]</text>\n<text text-anchor=\"middle\" x=\"867\" y=\"-357.3\" font-family=\"Helvetica,sans-Serif\" font-size=\"14.00\">class = Not Survived</text>\n</g>\n<!-- 0&#45;&gt;2 -->\n<g id=\"edge10\" class=\"edge\">\n<title>0&#45;&gt;2</title>\n<path fill=\"none\" stroke=\"black\" d=\"M775.57,-468.41C786.87,-458.97 798.98,-448.84 810.58,-439.15\"/>\n<polygon fill=\"black\" stroke=\"black\" points=\"813.08,-441.62 818.51,-432.52 808.6,-436.25 813.08,-441.62\"/>\n<text text-anchor=\"middle\" x=\"816.29\" y=\"-453.72\" font-family=\"Helvetica,sans-Serif\" font-size=\"14.00\">False</text>\n</g>\n<!-- 3 -->\n<g id=\"node3\" class=\"node\">\n<title>3</title>\n<path fill=\"#48a4e7\" stroke=\"black\" d=\"M262,-313.5C262,-313.5 170,-313.5 170,-313.5 164,-313.5 158,-307.5 158,-301.5 158,-301.5 158,-242.5 158,-242.5 158,-236.5 164,-230.5 170,-230.5 170,-230.5 262,-230.5 262,-230.5 268,-230.5 274,-236.5 274,-242.5 274,-242.5 274,-301.5 274,-301.5 274,-307.5 268,-313.5 262,-313.5\"/>\n<text text-anchor=\"middle\" x=\"216\" y=\"-298.3\" font-family=\"Helvetica,sans-Serif\" font-size=\"14.00\">Age &lt;= 3.0</text>\n<text text-anchor=\"middle\" x=\"216\" y=\"-283.3\" font-family=\"Helvetica,sans-Serif\" font-size=\"14.00\">gini = 0.127</text>\n<text text-anchor=\"middle\" x=\"216\" y=\"-268.3\" font-family=\"Helvetica,sans-Serif\" font-size=\"14.00\">samples = 117</text>\n<text text-anchor=\"middle\" x=\"216\" y=\"-253.3\" font-family=\"Helvetica,sans-Serif\" font-size=\"14.00\">value = [8, 109]</text>\n<text text-anchor=\"middle\" x=\"216\" y=\"-238.3\" font-family=\"Helvetica,sans-Serif\" font-size=\"14.00\">class = Survived</text>\n</g>\n<!-- 1&#45;&gt;3 -->\n<g id=\"edge2\" class=\"edge\">\n<title>1&#45;&gt;3</title>\n<path fill=\"none\" stroke=\"black\" d=\"M516.12,-370.81C452.32,-350.02 350.68,-316.89 283.65,-295.05\"/>\n<polygon fill=\"black\" stroke=\"black\" points=\"284.61,-291.68 274.02,-291.91 282.44,-298.34 284.61,-291.68\"/>\n</g>\n<!-- 4 -->\n<g id=\"node6\" class=\"node\">\n<title>4</title>\n<path fill=\"#fae7d9\" stroke=\"black\" d=\"M633,-313.5C633,-313.5 517,-313.5 517,-313.5 511,-313.5 505,-307.5 505,-301.5 505,-301.5 505,-242.5 505,-242.5 505,-236.5 511,-230.5 517,-230.5 517,-230.5 633,-230.5 633,-230.5 639,-230.5 645,-236.5 645,-242.5 645,-242.5 645,-301.5 645,-301.5 645,-307.5 639,-313.5 633,-313.5\"/>\n<text text-anchor=\"middle\" x=\"575\" y=\"-298.3\" font-family=\"Helvetica,sans-Serif\" font-size=\"14.00\">Fare &lt;= 23.087</text>\n<text text-anchor=\"middle\" x=\"575\" y=\"-283.3\" font-family=\"Helvetica,sans-Serif\" font-size=\"14.00\">gini = 0.494</text>\n<text text-anchor=\"middle\" x=\"575\" y=\"-268.3\" font-family=\"Helvetica,sans-Serif\" font-size=\"14.00\">samples = 76</text>\n<text text-anchor=\"middle\" x=\"575\" y=\"-253.3\" font-family=\"Helvetica,sans-Serif\" font-size=\"14.00\">value = [42, 34]</text>\n<text text-anchor=\"middle\" x=\"575\" y=\"-238.3\" font-family=\"Helvetica,sans-Serif\" font-size=\"14.00\">class = Not Survived</text>\n</g>\n<!-- 1&#45;&gt;4 -->\n<g id=\"edge5\" class=\"edge\">\n<title>1&#45;&gt;4</title>\n<path fill=\"none\" stroke=\"black\" d=\"M575,-349.41C575,-341.15 575,-332.36 575,-323.8\"/>\n<polygon fill=\"black\" stroke=\"black\" points=\"578.5,-323.52 575,-313.52 571.5,-323.52 578.5,-323.52\"/>\n</g>\n<!-- 17 -->\n<g id=\"node4\" class=\"node\">\n<title>17</title>\n<path fill=\"#e58139\" stroke=\"black\" d=\"M128,-68C128,-68 12,-68 12,-68 6,-68 0,-62 0,-56 0,-56 0,-12 0,-12 0,-6 6,0 12,0 12,0 128,0 128,0 134,0 140,-6 140,-12 140,-12 140,-56 140,-56 140,-62 134,-68 128,-68\"/>\n<text text-anchor=\"middle\" x=\"70\" y=\"-52.8\" font-family=\"Helvetica,sans-Serif\" font-size=\"14.00\">gini = 0.0</text>\n<text text-anchor=\"middle\" x=\"70\" y=\"-37.8\" font-family=\"Helvetica,sans-Serif\" font-size=\"14.00\">samples = 1</text>\n<text text-anchor=\"middle\" x=\"70\" y=\"-22.8\" font-family=\"Helvetica,sans-Serif\" font-size=\"14.00\">value = [1, 0]</text>\n<text text-anchor=\"middle\" x=\"70\" y=\"-7.8\" font-family=\"Helvetica,sans-Serif\" font-size=\"14.00\">class = Not Survived</text>\n</g>\n<!-- 3&#45;&gt;17 -->\n<g id=\"edge3\" class=\"edge\">\n<title>3&#45;&gt;17</title>\n<path fill=\"none\" stroke=\"black\" d=\"M190.9,-230.43C164.36,-187.52 122.69,-120.16 95.86,-76.8\"/>\n<polygon fill=\"black\" stroke=\"black\" points=\"98.77,-74.85 90.53,-68.19 92.82,-78.54 98.77,-74.85\"/>\n</g>\n<!-- 18 -->\n<g id=\"node5\" class=\"node\">\n<title>18</title>\n<path fill=\"#46a3e7\" stroke=\"black\" d=\"M262,-68C262,-68 170,-68 170,-68 164,-68 158,-62 158,-56 158,-56 158,-12 158,-12 158,-6 164,0 170,0 170,0 262,0 262,0 268,0 274,-6 274,-12 274,-12 274,-56 274,-56 274,-62 268,-68 262,-68\"/>\n<text text-anchor=\"middle\" x=\"216\" y=\"-52.8\" font-family=\"Helvetica,sans-Serif\" font-size=\"14.00\">gini = 0.113</text>\n<text text-anchor=\"middle\" x=\"216\" y=\"-37.8\" font-family=\"Helvetica,sans-Serif\" font-size=\"14.00\">samples = 116</text>\n<text text-anchor=\"middle\" x=\"216\" y=\"-22.8\" font-family=\"Helvetica,sans-Serif\" font-size=\"14.00\">value = [7, 109]</text>\n<text text-anchor=\"middle\" x=\"216\" y=\"-7.8\" font-family=\"Helvetica,sans-Serif\" font-size=\"14.00\">class = Survived</text>\n</g>\n<!-- 3&#45;&gt;18 -->\n<g id=\"edge4\" class=\"edge\">\n<title>3&#45;&gt;18</title>\n<path fill=\"none\" stroke=\"black\" d=\"M216,-230.43C216,-188.06 216,-121.85 216,-78.44\"/>\n<polygon fill=\"black\" stroke=\"black\" points=\"219.5,-78.19 216,-68.19 212.5,-78.19 219.5,-78.19\"/>\n</g>\n<!-- 11 -->\n<g id=\"node7\" class=\"node\">\n<title>11</title>\n<path fill=\"#ecf6fd\" stroke=\"black\" d=\"M542,-194.5C542,-194.5 450,-194.5 450,-194.5 444,-194.5 438,-188.5 438,-182.5 438,-182.5 438,-123.5 438,-123.5 438,-117.5 444,-111.5 450,-111.5 450,-111.5 542,-111.5 542,-111.5 548,-111.5 554,-117.5 554,-123.5 554,-123.5 554,-182.5 554,-182.5 554,-188.5 548,-194.5 542,-194.5\"/>\n<text text-anchor=\"middle\" x=\"496\" y=\"-179.3\" font-family=\"Helvetica,sans-Serif\" font-size=\"14.00\">Age &lt;= 16.5</text>\n<text text-anchor=\"middle\" x=\"496\" y=\"-164.3\" font-family=\"Helvetica,sans-Serif\" font-size=\"14.00\">gini = 0.499</text>\n<text text-anchor=\"middle\" x=\"496\" y=\"-149.3\" font-family=\"Helvetica,sans-Serif\" font-size=\"14.00\">samples = 61</text>\n<text text-anchor=\"middle\" x=\"496\" y=\"-134.3\" font-family=\"Helvetica,sans-Serif\" font-size=\"14.00\">value = [29, 32]</text>\n<text text-anchor=\"middle\" x=\"496\" y=\"-119.3\" font-family=\"Helvetica,sans-Serif\" font-size=\"14.00\">class = Survived</text>\n</g>\n<!-- 4&#45;&gt;11 -->\n<g id=\"edge6\" class=\"edge\">\n<title>4&#45;&gt;11</title>\n<path fill=\"none\" stroke=\"black\" d=\"M547.59,-230.41C541.59,-221.51 535.17,-212.01 528.97,-202.83\"/>\n<polygon fill=\"black\" stroke=\"black\" points=\"531.86,-200.85 523.36,-194.52 526.06,-204.77 531.86,-200.85\"/>\n</g>\n<!-- 12 -->\n<g id=\"node10\" class=\"node\">\n<title>12</title>\n<path fill=\"#e99457\" stroke=\"black\" d=\"M712,-68C712,-68 596,-68 596,-68 590,-68 584,-62 584,-56 584,-56 584,-12 584,-12 584,-6 590,0 596,0 596,0 712,0 712,0 718,0 724,-6 724,-12 724,-12 724,-56 724,-56 724,-62 718,-68 712,-68\"/>\n<text text-anchor=\"middle\" x=\"654\" y=\"-52.8\" font-family=\"Helvetica,sans-Serif\" font-size=\"14.00\">gini = 0.231</text>\n<text text-anchor=\"middle\" x=\"654\" y=\"-37.8\" font-family=\"Helvetica,sans-Serif\" font-size=\"14.00\">samples = 15</text>\n<text text-anchor=\"middle\" x=\"654\" y=\"-22.8\" font-family=\"Helvetica,sans-Serif\" font-size=\"14.00\">value = [13, 2]</text>\n<text text-anchor=\"middle\" x=\"654\" y=\"-7.8\" font-family=\"Helvetica,sans-Serif\" font-size=\"14.00\">class = Not Survived</text>\n</g>\n<!-- 4&#45;&gt;12 -->\n<g id=\"edge9\" class=\"edge\">\n<title>4&#45;&gt;12</title>\n<path fill=\"none\" stroke=\"black\" d=\"M588.58,-230.43C602.82,-187.88 625.12,-121.29 639.64,-77.89\"/>\n<polygon fill=\"black\" stroke=\"black\" points=\"643.03,-78.79 642.89,-68.19 636.4,-76.56 643.03,-78.79\"/>\n</g>\n<!-- 13 -->\n<g id=\"node8\" class=\"node\">\n<title>13</title>\n<path fill=\"#55abe9\" stroke=\"black\" d=\"M396,-68C396,-68 304,-68 304,-68 298,-68 292,-62 292,-56 292,-56 292,-12 292,-12 292,-6 298,0 304,0 304,0 396,0 396,0 402,0 408,-6 408,-12 408,-12 408,-56 408,-56 408,-62 402,-68 396,-68\"/>\n<text text-anchor=\"middle\" x=\"350\" y=\"-52.8\" font-family=\"Helvetica,sans-Serif\" font-size=\"14.00\">gini = 0.219</text>\n<text text-anchor=\"middle\" x=\"350\" y=\"-37.8\" font-family=\"Helvetica,sans-Serif\" font-size=\"14.00\">samples = 16</text>\n<text text-anchor=\"middle\" x=\"350\" y=\"-22.8\" font-family=\"Helvetica,sans-Serif\" font-size=\"14.00\">value = [2, 14]</text>\n<text text-anchor=\"middle\" x=\"350\" y=\"-7.8\" font-family=\"Helvetica,sans-Serif\" font-size=\"14.00\">class = Survived</text>\n</g>\n<!-- 11&#45;&gt;13 -->\n<g id=\"edge7\" class=\"edge\">\n<title>11&#45;&gt;13</title>\n<path fill=\"none\" stroke=\"black\" d=\"M445.35,-111.41C430.47,-99.49 414.23,-86.48 399.44,-74.62\"/>\n<polygon fill=\"black\" stroke=\"black\" points=\"401.38,-71.69 391.39,-68.17 397,-77.15 401.38,-71.69\"/>\n</g>\n<!-- 14 -->\n<g id=\"node9\" class=\"node\">\n<title>14</title>\n<path fill=\"#f6d5bd\" stroke=\"black\" d=\"M554,-68C554,-68 438,-68 438,-68 432,-68 426,-62 426,-56 426,-56 426,-12 426,-12 426,-6 432,0 438,0 438,0 554,0 554,0 560,0 566,-6 566,-12 566,-12 566,-56 566,-56 566,-62 560,-68 554,-68\"/>\n<text text-anchor=\"middle\" x=\"496\" y=\"-52.8\" font-family=\"Helvetica,sans-Serif\" font-size=\"14.00\">gini = 0.48</text>\n<text text-anchor=\"middle\" x=\"496\" y=\"-37.8\" font-family=\"Helvetica,sans-Serif\" font-size=\"14.00\">samples = 45</text>\n<text text-anchor=\"middle\" x=\"496\" y=\"-22.8\" font-family=\"Helvetica,sans-Serif\" font-size=\"14.00\">value = [27, 18]</text>\n<text text-anchor=\"middle\" x=\"496\" y=\"-7.8\" font-family=\"Helvetica,sans-Serif\" font-size=\"14.00\">class = Not Survived</text>\n</g>\n<!-- 11&#45;&gt;14 -->\n<g id=\"edge8\" class=\"edge\">\n<title>11&#45;&gt;14</title>\n<path fill=\"none\" stroke=\"black\" d=\"M496,-111.41C496,-100.7 496,-89.12 496,-78.28\"/>\n<polygon fill=\"black\" stroke=\"black\" points=\"499.5,-78.17 496,-68.17 492.5,-78.17 499.5,-78.17\"/>\n</g>\n<!-- 5 -->\n<g id=\"node12\" class=\"node\">\n<title>5</title>\n<path fill=\"#f7d9c3\" stroke=\"black\" d=\"M925,-313.5C925,-313.5 809,-313.5 809,-313.5 803,-313.5 797,-307.5 797,-301.5 797,-301.5 797,-242.5 797,-242.5 797,-236.5 803,-230.5 809,-230.5 809,-230.5 925,-230.5 925,-230.5 931,-230.5 937,-236.5 937,-242.5 937,-242.5 937,-301.5 937,-301.5 937,-307.5 931,-313.5 925,-313.5\"/>\n<text text-anchor=\"middle\" x=\"867\" y=\"-298.3\" font-family=\"Helvetica,sans-Serif\" font-size=\"14.00\">Age &lt;= 36.5</text>\n<text text-anchor=\"middle\" x=\"867\" y=\"-283.3\" font-family=\"Helvetica,sans-Serif\" font-size=\"14.00\">gini = 0.484</text>\n<text text-anchor=\"middle\" x=\"867\" y=\"-268.3\" font-family=\"Helvetica,sans-Serif\" font-size=\"14.00\">samples = 73</text>\n<text text-anchor=\"middle\" x=\"867\" y=\"-253.3\" font-family=\"Helvetica,sans-Serif\" font-size=\"14.00\">value = [43, 30]</text>\n<text text-anchor=\"middle\" x=\"867\" y=\"-238.3\" font-family=\"Helvetica,sans-Serif\" font-size=\"14.00\">class = Not Survived</text>\n</g>\n<!-- 2&#45;&gt;5 -->\n<g id=\"edge11\" class=\"edge\">\n<title>2&#45;&gt;5</title>\n<path fill=\"none\" stroke=\"black\" d=\"M867,-349.41C867,-341.15 867,-332.36 867,-323.8\"/>\n<polygon fill=\"black\" stroke=\"black\" points=\"870.5,-323.52 867,-313.52 863.5,-323.52 870.5,-323.52\"/>\n</g>\n<!-- 6 -->\n<g id=\"node15\" class=\"node\">\n<title>6</title>\n<path fill=\"#ea985d\" stroke=\"black\" d=\"M1223,-313.5C1223,-313.5 1107,-313.5 1107,-313.5 1101,-313.5 1095,-307.5 1095,-301.5 1095,-301.5 1095,-242.5 1095,-242.5 1095,-236.5 1101,-230.5 1107,-230.5 1107,-230.5 1223,-230.5 1223,-230.5 1229,-230.5 1235,-236.5 1235,-242.5 1235,-242.5 1235,-301.5 1235,-301.5 1235,-307.5 1229,-313.5 1223,-313.5\"/>\n<text text-anchor=\"middle\" x=\"1165\" y=\"-298.3\" font-family=\"Helvetica,sans-Serif\" font-size=\"14.00\">Age &lt;= 9.5</text>\n<text text-anchor=\"middle\" x=\"1165\" y=\"-283.3\" font-family=\"Helvetica,sans-Serif\" font-size=\"14.00\">gini = 0.26</text>\n<text text-anchor=\"middle\" x=\"1165\" y=\"-268.3\" font-family=\"Helvetica,sans-Serif\" font-size=\"14.00\">samples = 267</text>\n<text text-anchor=\"middle\" x=\"1165\" y=\"-253.3\" font-family=\"Helvetica,sans-Serif\" font-size=\"14.00\">value = [226, 41]</text>\n<text text-anchor=\"middle\" x=\"1165\" y=\"-238.3\" font-family=\"Helvetica,sans-Serif\" font-size=\"14.00\">class = Not Survived</text>\n</g>\n<!-- 2&#45;&gt;6 -->\n<g id=\"edge14\" class=\"edge\">\n<title>2&#45;&gt;6</title>\n<path fill=\"none\" stroke=\"black\" d=\"M937.24,-362.42C981.76,-344.94 1039.43,-322.3 1085.6,-304.17\"/>\n<polygon fill=\"black\" stroke=\"black\" points=\"1086.94,-307.41 1094.97,-300.5 1084.38,-300.89 1086.94,-307.41\"/>\n</g>\n<!-- 15 -->\n<g id=\"node13\" class=\"node\">\n<title>15</title>\n<path fill=\"#cbe5f8\" stroke=\"black\" d=\"M846,-68C846,-68 754,-68 754,-68 748,-68 742,-62 742,-56 742,-56 742,-12 742,-12 742,-6 748,0 754,0 754,0 846,0 846,0 852,0 858,-6 858,-12 858,-12 858,-56 858,-56 858,-62 852,-68 846,-68\"/>\n<text text-anchor=\"middle\" x=\"800\" y=\"-52.8\" font-family=\"Helvetica,sans-Serif\" font-size=\"14.00\">gini = 0.489</text>\n<text text-anchor=\"middle\" x=\"800\" y=\"-37.8\" font-family=\"Helvetica,sans-Serif\" font-size=\"14.00\">samples = 33</text>\n<text text-anchor=\"middle\" x=\"800\" y=\"-22.8\" font-family=\"Helvetica,sans-Serif\" font-size=\"14.00\">value = [14, 19]</text>\n<text text-anchor=\"middle\" x=\"800\" y=\"-7.8\" font-family=\"Helvetica,sans-Serif\" font-size=\"14.00\">class = Survived</text>\n</g>\n<!-- 5&#45;&gt;15 -->\n<g id=\"edge12\" class=\"edge\">\n<title>5&#45;&gt;15</title>\n<path fill=\"none\" stroke=\"black\" d=\"M855.48,-230.43C843.4,-187.88 824.5,-121.29 812.18,-77.89\"/>\n<polygon fill=\"black\" stroke=\"black\" points=\"815.52,-76.86 809.42,-68.19 808.79,-78.77 815.52,-76.86\"/>\n</g>\n<!-- 16 -->\n<g id=\"node14\" class=\"node\">\n<title>16</title>\n<path fill=\"#efb184\" stroke=\"black\" d=\"M1004,-68C1004,-68 888,-68 888,-68 882,-68 876,-62 876,-56 876,-56 876,-12 876,-12 876,-6 882,0 888,0 888,0 1004,0 1004,0 1010,0 1016,-6 1016,-12 1016,-12 1016,-56 1016,-56 1016,-62 1010,-68 1004,-68\"/>\n<text text-anchor=\"middle\" x=\"946\" y=\"-52.8\" font-family=\"Helvetica,sans-Serif\" font-size=\"14.00\">gini = 0.399</text>\n<text text-anchor=\"middle\" x=\"946\" y=\"-37.8\" font-family=\"Helvetica,sans-Serif\" font-size=\"14.00\">samples = 40</text>\n<text text-anchor=\"middle\" x=\"946\" y=\"-22.8\" font-family=\"Helvetica,sans-Serif\" font-size=\"14.00\">value = [29, 11]</text>\n<text text-anchor=\"middle\" x=\"946\" y=\"-7.8\" font-family=\"Helvetica,sans-Serif\" font-size=\"14.00\">class = Not Survived</text>\n</g>\n<!-- 5&#45;&gt;16 -->\n<g id=\"edge13\" class=\"edge\">\n<title>5&#45;&gt;16</title>\n<path fill=\"none\" stroke=\"black\" d=\"M880.58,-230.43C894.82,-187.88 917.12,-121.29 931.64,-77.89\"/>\n<polygon fill=\"black\" stroke=\"black\" points=\"935.03,-78.79 934.89,-68.19 928.4,-76.56 935.03,-78.79\"/>\n</g>\n<!-- 7 -->\n<g id=\"node16\" class=\"node\">\n<title>7</title>\n<path fill=\"#ffffff\" stroke=\"black\" d=\"M1223,-194.5C1223,-194.5 1107,-194.5 1107,-194.5 1101,-194.5 1095,-188.5 1095,-182.5 1095,-182.5 1095,-123.5 1095,-123.5 1095,-117.5 1101,-111.5 1107,-111.5 1107,-111.5 1223,-111.5 1223,-111.5 1229,-111.5 1235,-117.5 1235,-123.5 1235,-123.5 1235,-182.5 1235,-182.5 1235,-188.5 1229,-194.5 1223,-194.5\"/>\n<text text-anchor=\"middle\" x=\"1165\" y=\"-179.3\" font-family=\"Helvetica,sans-Serif\" font-size=\"14.00\">SibSp &lt;= 2.0</text>\n<text text-anchor=\"middle\" x=\"1165\" y=\"-164.3\" font-family=\"Helvetica,sans-Serif\" font-size=\"14.00\">gini = 0.5</text>\n<text text-anchor=\"middle\" x=\"1165\" y=\"-149.3\" font-family=\"Helvetica,sans-Serif\" font-size=\"14.00\">samples = 26</text>\n<text text-anchor=\"middle\" x=\"1165\" y=\"-134.3\" font-family=\"Helvetica,sans-Serif\" font-size=\"14.00\">value = [13, 13]</text>\n<text text-anchor=\"middle\" x=\"1165\" y=\"-119.3\" font-family=\"Helvetica,sans-Serif\" font-size=\"14.00\">class = Not Survived</text>\n</g>\n<!-- 6&#45;&gt;7 -->\n<g id=\"edge15\" class=\"edge\">\n<title>6&#45;&gt;7</title>\n<path fill=\"none\" stroke=\"black\" d=\"M1165,-230.41C1165,-222.15 1165,-213.36 1165,-204.8\"/>\n<polygon fill=\"black\" stroke=\"black\" points=\"1168.5,-204.52 1165,-194.52 1161.5,-204.52 1168.5,-204.52\"/>\n</g>\n<!-- 8 -->\n<g id=\"node19\" class=\"node\">\n<title>8</title>\n<path fill=\"#e89253\" stroke=\"black\" d=\"M1454,-68C1454,-68 1338,-68 1338,-68 1332,-68 1326,-62 1326,-56 1326,-56 1326,-12 1326,-12 1326,-6 1332,0 1338,0 1338,0 1454,0 1454,0 1460,0 1466,-6 1466,-12 1466,-12 1466,-56 1466,-56 1466,-62 1460,-68 1454,-68\"/>\n<text text-anchor=\"middle\" x=\"1396\" y=\"-52.8\" font-family=\"Helvetica,sans-Serif\" font-size=\"14.00\">gini = 0.205</text>\n<text text-anchor=\"middle\" x=\"1396\" y=\"-37.8\" font-family=\"Helvetica,sans-Serif\" font-size=\"14.00\">samples = 241</text>\n<text text-anchor=\"middle\" x=\"1396\" y=\"-22.8\" font-family=\"Helvetica,sans-Serif\" font-size=\"14.00\">value = [213, 28]</text>\n<text text-anchor=\"middle\" x=\"1396\" y=\"-7.8\" font-family=\"Helvetica,sans-Serif\" font-size=\"14.00\">class = Not Survived</text>\n</g>\n<!-- 6&#45;&gt;8 -->\n<g id=\"edge18\" class=\"edge\">\n<title>6&#45;&gt;8</title>\n<path fill=\"none\" stroke=\"black\" d=\"M1207.28,-230.06C1226.06,-211.87 1244,-194.5 1244,-194.5 1244,-194.5 1312.46,-122.66 1357.49,-75.41\"/>\n<polygon fill=\"black\" stroke=\"black\" points=\"1360.14,-77.7 1364.51,-68.05 1355.07,-72.87 1360.14,-77.7\"/>\n</g>\n<!-- 9 -->\n<g id=\"node17\" class=\"node\">\n<title>9</title>\n<path fill=\"#399de5\" stroke=\"black\" d=\"M1138,-68C1138,-68 1046,-68 1046,-68 1040,-68 1034,-62 1034,-56 1034,-56 1034,-12 1034,-12 1034,-6 1040,0 1046,0 1046,0 1138,0 1138,0 1144,0 1150,-6 1150,-12 1150,-12 1150,-56 1150,-56 1150,-62 1144,-68 1138,-68\"/>\n<text text-anchor=\"middle\" x=\"1092\" y=\"-52.8\" font-family=\"Helvetica,sans-Serif\" font-size=\"14.00\">gini = 0.0</text>\n<text text-anchor=\"middle\" x=\"1092\" y=\"-37.8\" font-family=\"Helvetica,sans-Serif\" font-size=\"14.00\">samples = 12</text>\n<text text-anchor=\"middle\" x=\"1092\" y=\"-22.8\" font-family=\"Helvetica,sans-Serif\" font-size=\"14.00\">value = [0, 12]</text>\n<text text-anchor=\"middle\" x=\"1092\" y=\"-7.8\" font-family=\"Helvetica,sans-Serif\" font-size=\"14.00\">class = Survived</text>\n</g>\n<!-- 7&#45;&gt;9 -->\n<g id=\"edge16\" class=\"edge\">\n<title>7&#45;&gt;9</title>\n<path fill=\"none\" stroke=\"black\" d=\"M1139.67,-111.41C1132.72,-100.26 1125.17,-88.16 1118.17,-76.94\"/>\n<polygon fill=\"black\" stroke=\"black\" points=\"1120.96,-74.8 1112.69,-68.17 1115.02,-78.5 1120.96,-74.8\"/>\n</g>\n<!-- 10 -->\n<g id=\"node18\" class=\"node\">\n<title>10</title>\n<path fill=\"#e78b48\" stroke=\"black\" d=\"M1296,-68C1296,-68 1180,-68 1180,-68 1174,-68 1168,-62 1168,-56 1168,-56 1168,-12 1168,-12 1168,-6 1174,0 1180,0 1180,0 1296,0 1296,0 1302,0 1308,-6 1308,-12 1308,-12 1308,-56 1308,-56 1308,-62 1302,-68 1296,-68\"/>\n<text text-anchor=\"middle\" x=\"1238\" y=\"-52.8\" font-family=\"Helvetica,sans-Serif\" font-size=\"14.00\">gini = 0.133</text>\n<text text-anchor=\"middle\" x=\"1238\" y=\"-37.8\" font-family=\"Helvetica,sans-Serif\" font-size=\"14.00\">samples = 14</text>\n<text text-anchor=\"middle\" x=\"1238\" y=\"-22.8\" font-family=\"Helvetica,sans-Serif\" font-size=\"14.00\">value = [13, 1]</text>\n<text text-anchor=\"middle\" x=\"1238\" y=\"-7.8\" font-family=\"Helvetica,sans-Serif\" font-size=\"14.00\">class = Not Survived</text>\n</g>\n<!-- 7&#45;&gt;10 -->\n<g id=\"edge17\" class=\"edge\">\n<title>7&#45;&gt;10</title>\n<path fill=\"none\" stroke=\"black\" d=\"M1190.33,-111.41C1197.28,-100.26 1204.83,-88.16 1211.83,-76.94\"/>\n<polygon fill=\"black\" stroke=\"black\" points=\"1214.98,-78.5 1217.31,-68.17 1209.04,-74.8 1214.98,-78.5\"/>\n</g>\n</g>\n</svg>\n",
            "text/plain": [
              "<graphviz.sources.Source at 0x781de6e16080>"
            ]
          },
          "metadata": {},
          "execution_count": 11
        }
      ]
    },
    {
      "cell_type": "code",
      "source": [
        "from sklearn.metrics import confusion_matrix\n",
        "\n",
        "confusion_matrix(y_test, y_pred)"
      ],
      "metadata": {
        "colab": {
          "base_uri": "https://localhost:8080/"
        },
        "id": "UNHhrq9l_4rU",
        "outputId": "4dfe8d4e-c3a4-4203-fb6d-e614322ff062"
      },
      "execution_count": null,
      "outputs": [
        {
          "output_type": "execute_result",
          "data": {
            "text/plain": [
              "array([[96,  9],\n",
              "       [26, 47]])"
            ]
          },
          "metadata": {},
          "execution_count": 12
        }
      ]
    },
    {
      "cell_type": "code",
      "source": [
        "tree.plot_tree(clf, feature_names=X.columns,\n",
        "                     class_names = ['Not Survived', 'Survived'],\n",
        "                     filled=True, rounded=True)"
      ],
      "metadata": {
        "colab": {
          "base_uri": "https://localhost:8080/",
          "height": 917
        },
        "id": "zI_hoNljGsJS",
        "outputId": "309312b2-e789-406d-9d5c-04f9ffaf86f9"
      },
      "execution_count": null,
      "outputs": [
        {
          "output_type": "execute_result",
          "data": {
            "text/plain": [
              "[Text(0.5, 0.9, 'Sex_male <= 0.5\\ngini = 0.481\\nsamples = 533\\nvalue = [319, 214]\\nclass = Not Survived'),\n",
              " Text(0.25, 0.7, 'Pclass <= 2.5\\ngini = 0.384\\nsamples = 193\\nvalue = [50, 143]\\nclass = Survived'),\n",
              " Text(0.125, 0.5, 'Age <= 3.0\\ngini = 0.127\\nsamples = 117\\nvalue = [8, 109]\\nclass = Survived'),\n",
              " Text(0.0625, 0.3, 'gini = 0.0\\nsamples = 1\\nvalue = [1, 0]\\nclass = Not Survived'),\n",
              " Text(0.1875, 0.3, 'gini = 0.113\\nsamples = 116\\nvalue = [7, 109]\\nclass = Survived'),\n",
              " Text(0.375, 0.5, 'Fare <= 23.087\\ngini = 0.494\\nsamples = 76\\nvalue = [42, 34]\\nclass = Not Survived'),\n",
              " Text(0.3125, 0.3, 'Age <= 16.5\\ngini = 0.499\\nsamples = 61\\nvalue = [29, 32]\\nclass = Survived'),\n",
              " Text(0.25, 0.1, 'gini = 0.219\\nsamples = 16\\nvalue = [2, 14]\\nclass = Survived'),\n",
              " Text(0.375, 0.1, 'gini = 0.48\\nsamples = 45\\nvalue = [27, 18]\\nclass = Not Survived'),\n",
              " Text(0.4375, 0.3, 'gini = 0.231\\nsamples = 15\\nvalue = [13, 2]\\nclass = Not Survived'),\n",
              " Text(0.75, 0.7, 'Pclass <= 1.5\\ngini = 0.33\\nsamples = 340\\nvalue = [269, 71]\\nclass = Not Survived'),\n",
              " Text(0.625, 0.5, 'Age <= 36.5\\ngini = 0.484\\nsamples = 73\\nvalue = [43, 30]\\nclass = Not Survived'),\n",
              " Text(0.5625, 0.3, 'gini = 0.489\\nsamples = 33\\nvalue = [14, 19]\\nclass = Survived'),\n",
              " Text(0.6875, 0.3, 'gini = 0.399\\nsamples = 40\\nvalue = [29, 11]\\nclass = Not Survived'),\n",
              " Text(0.875, 0.5, 'Age <= 9.5\\ngini = 0.26\\nsamples = 267\\nvalue = [226, 41]\\nclass = Not Survived'),\n",
              " Text(0.8125, 0.3, 'SibSp <= 2.0\\ngini = 0.5\\nsamples = 26\\nvalue = [13, 13]\\nclass = Not Survived'),\n",
              " Text(0.75, 0.1, 'gini = 0.0\\nsamples = 12\\nvalue = [0, 12]\\nclass = Survived'),\n",
              " Text(0.875, 0.1, 'gini = 0.133\\nsamples = 14\\nvalue = [13, 1]\\nclass = Not Survived'),\n",
              " Text(0.9375, 0.3, 'gini = 0.205\\nsamples = 241\\nvalue = [213, 28]\\nclass = Not Survived')]"
            ]
          },
          "metadata": {},
          "execution_count": 18
        },
        {
          "output_type": "display_data",
          "data": {
            "text/plain": [
              "<Figure size 640x480 with 1 Axes>"
            ],
            "image/png": "[encoded data removed]"
          },
          "metadata": {}
        }
      ]
    }
  ]
}