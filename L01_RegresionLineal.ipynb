{
  "nbformat": 4,
  "nbformat_minor": 0,
  "metadata": {
    "colab": {
      "provenance": [],
      "authorship_tag": "ABX9TyNWZGl4Tbhx010JYKXT+70m",
      "include_colab_link": true
    },
    "kernelspec": {
      "name": "python3",
      "display_name": "Python 3"
    },
    "language_info": {
      "name": "python"
    }
  },
  "cells": [
    {
      "cell_type": "markdown",
      "metadata": {
        "id": "view-in-github",
        "colab_type": "text"
      },
      "source": [
        "<a href=\"https://colab.research.google.com/github/DenisseUrenda/MachineLearning/blob/main/L01_RegresionLineal.ipynb\" target=\"_parent\"><img src=\"https://colab.research.google.com/assets/colab-badge.svg\" alt=\"Open In Colab\"/></a>"
      ]
    },
    {
      "cell_type": "markdown",
      "source": [
        "# Regresión lineal\n",
        "\n",
        "En regresión lineal simple se asume que la variable dependiente $y$ está relacionada linealmente con la variable independiente $x$. Es decir, que se cumple\n",
        "$$\n",
        "y = \\beta_0+\\beta_1x+\\epsilon\n",
        "$$\n",
        "donde $\\epsilon\\sim N(0,\\sigma^2)$.\n",
        "\n",
        "Para estimar $\\beta_0$ y $\\beta_1$ cuando se tiene un conjunto de datos $\\{(x_i,y_i)\\}_{i=1}^n$, es necesario minimizar la suma de los errores cuadráticos (SSE), es decir\n",
        "$$\n",
        "\\text{SSE} = \\sum_{i=1}^ne_i^2=\\sum_{i=1}^n(y_i-\\hat y_i)^2\n",
        "$$\n",
        "donde\n",
        "$$\n",
        "\\hat y_i = \\beta_0 + \\beta_1x.\n",
        "$$\n",
        "Para minimizar el SSE, recurrimos a cálculo diferencial\n",
        "$$\n",
        "\\begin{aligned}\n",
        "\\frac{\\partial\\text{ SSE}}{\\partial\\beta_0} &= -2\\sum_{i=1}^n(y_i-\\beta_0-\\beta_1x_i)\\\\\n",
        "\\frac{\\partial\\text{ SSE}}{\\partial\\beta_1} &= -2\\beta_1\\sum_{i=1}^nx_i(y_i-\\beta_0-\\beta_1x_i)\n",
        "\\end{aligned}\n",
        "$$\n",
        "igualamos a cero y resolvemos para $\\beta_0$ y $\\beta_1$, respectivamente\n",
        "$$\n",
        "\\begin{aligned}\n",
        "-2\\sum_{i=1}^n(y_i-\\beta_0-\\beta_1x_i) &= 0 \\\\\n",
        "\\sum_{i=1}^n(y_i-\\beta_0-\\beta_1x_i) &=0 \\\\\n",
        "\\sum_{i=1}^ny_i-n\\beta_0-\\beta_1\\sum_{i=1}^nx_i &=0 \\\\\n",
        "\\bar y-\\beta_0-\\beta_1\\bar x &=0\\\\\n",
        "\\beta_0 &=  \\bar y-\\beta_1\\bar x\n",
        "\\end{aligned}\n",
        "$$\n",
        "y\n",
        "$$\n",
        "\\begin{aligned}\n",
        "-2\\beta_1\\sum_{i=1}^nx_i(y_i-\\beta_0-\\beta_1x_i) &=0 \\\\\n",
        "\\sum_{i=1}^nx_i(y_i-\\beta_0-\\beta_1x_i) &=0 \\\\\n",
        "\\sum_{i=1}^nx_iy_i-\\beta_0\\sum_{i=1}^nx_i-\\beta_1\\sum_{i=1}^nx_i^2&=0 \\\\\n",
        "\\sum_{i=1}^nx_iy_i-(\\bar y-\\beta_1\\bar x)\\sum_{i=1}^nx_i-\\beta_1\\sum_{i=1}^nx_i^2&=0 \\\\\n",
        "\\beta_1\\left(\\bar x\\sum_{i=1}^nx_i-\\sum_{i=1}^nx_i^2\\right) &= \\bar y\\sum_{i=1}^nx_i-\\sum_{i=1}^nx_iy_i \\\\\n",
        "\\beta_1  &= \\frac{n\\bar x\\bar y - \\sum_{i=1}^nx_iy_i}{n\\bar x^2 - \\sum_{i=1}^nx_i^2} \\\\\n",
        "\\beta_1 &= \\frac{\\sum_{i=1}^n(x_i-\\bar x)(y_i-\\bar y)}{\\sum_{i=1}^n(x_i-\\bar x)^2}.\n",
        "\\end{aligned}\n",
        "$$\n",
        "\n",
        "La última igualdad se cumple pues\n",
        "$$\n",
        "\\begin{aligned}\n",
        "\\sum_{i=1}^n(x_i-\\bar x)(y_i-\\bar y) &= \\sum_{i=1}^nx_iy_i-\\sum_{i=1}^nx_i\\bar y-\\sum_{i=1}^n\\bar x y_i+\\sum_{i=1}^n\\bar x\\bar y \\\\\n",
        " &= \\sum_{i=1}^nx_iy_i-n\\bar x\\bar y-n\\bar x\\bar y+nbar x\\bar y \\\\\n",
        " &= \\sum_{i=1}^nx_iy_i-n\\bar x\\bar y\n",
        "\\end{aligned}\n",
        "$$\n",
        "y\n",
        "$$\n",
        "\\begin{aligned}\n",
        "\\sum_{i=1}^n(x_i-\\bar x)^2 &= \\sum_{i=1}^nx_i^2-2\\sum_{i=1}^nx_i\\bar x+\\sum_{i=1}^n\\bar x^2 \\\\\n",
        " &= \\sum_{i=1}^nx_i^2-2n\\bar x^2+n\\bar x^2 \\\\\n",
        " &= \\sum_{i=1}^nx_i^2-n\\bar x^2.\n",
        "\\end{aligned}\n",
        "$$\n",
        "\n",
        "Por lo tanto,\n",
        "$$\n",
        "\\beta_1 = \\frac{\\sum_{i=1}^n(x_i-\\bar x)(y_i-\\bar y)}{\\sum_{i=1}^n(x_i-\\bar x)^2} \\quad\\text{y}\\quad \\beta_0 = \\bar y-\\beta_1\\bar x.\n",
        "$$"
      ],
      "metadata": {
        "id": "IJlCOsRG0zUz"
      }
    },
    {
      "cell_type": "code",
      "execution_count": null,
      "metadata": {
        "id": "rsWMDXqh0sVw"
      },
      "outputs": [],
      "source": [
        "import numpy as np\n",
        "import pandas as pd\n",
        "import matplotlib.pyplot as plt"
      ]
    },
    {
      "cell_type": "code",
      "source": [
        "#path = \"https://raw.githubusercontent.com/javierIA/ConceptosML/main/Data/ventas_publicidad.csv\"\n",
        "path = \"https://gist.githubusercontent.com/javierIA/154c66e57da3915c75de447998c19822/raw/264cbe2e8ce1a5310d58d089c45c15a33057162b/datos.csv\"\n",
        "dataframe = pd.read_csv(path)\n",
        "print(dataframe)"
      ],
      "metadata": {
        "colab": {
          "base_uri": "https://localhost:8080/"
        },
        "id": "pvZe-gyb1MEd",
        "outputId": "ffde71ce-e858-49e9-a956-2927567c4ed8"
      },
      "execution_count": null,
      "outputs": [
        {
          "output_type": "stream",
          "name": "stdout",
          "text": [
            "    Gasto en Publicidad        Ventas\n",
            "0            593.932154  26105.234131\n",
            "1            743.670430  36153.420339\n",
            "2            642.487038  30554.035033\n",
            "3            590.394865  28936.021218\n",
            "4            481.289319  22072.792618\n",
            "..                  ...           ...\n",
            "95           264.872226  12675.690453\n",
            "96           627.861641  27308.879490\n",
            "97           118.096792   6517.410585\n",
            "98           846.046026  34758.209585\n",
            "99           104.225929   5623.688753\n",
            "\n",
            "[100 rows x 2 columns]\n"
          ]
        }
      ]
    },
    {
      "cell_type": "code",
      "source": [
        "x = dataframe[\"Gasto en Publicidad\"]\n",
        "y = dataframe[\"Ventas\"]\n",
        "x, y"
      ],
      "metadata": {
        "colab": {
          "base_uri": "https://localhost:8080/"
        },
        "id": "2G0rQqQg1213",
        "outputId": "b8bc5b65-7174-4fe8-c523-a44dfab120f9"
      },
      "execution_count": null,
      "outputs": [
        {
          "output_type": "execute_result",
          "data": {
            "text/plain": [
              "(0     593.932154\n",
              " 1     743.670430\n",
              " 2     642.487038\n",
              " 3     590.394865\n",
              " 4     481.289319\n",
              "          ...    \n",
              " 95    264.872226\n",
              " 96    627.861641\n",
              " 97    118.096792\n",
              " 98    846.046026\n",
              " 99    104.225929\n",
              " Name: Gasto en Publicidad, Length: 100, dtype: float64,\n",
              " 0     26105.234131\n",
              " 1     36153.420339\n",
              " 2     30554.035033\n",
              " 3     28936.021218\n",
              " 4     22072.792618\n",
              "           ...     \n",
              " 95    12675.690453\n",
              " 96    27308.879490\n",
              " 97     6517.410585\n",
              " 98    34758.209585\n",
              " 99     5623.688753\n",
              " Name: Ventas, Length: 100, dtype: float64)"
            ]
          },
          "metadata": {},
          "execution_count": 4
        }
      ]
    },
    {
      "cell_type": "code",
      "source": [
        "plt.scatter(x, y)\n",
        "plt.xlabel(\"Gasto en Publicidad\")\n",
        "plt.ylabel(\"Ventas\")\n",
        "plt.show()"
      ],
      "metadata": {
        "colab": {
          "base_uri": "https://localhost:8080/",
          "height": 449
        },
        "id": "VoiYsh752UTb",
        "outputId": "c590b18e-ef75-4163-dcf0-fb43bbd64c04"
      },
      "execution_count": null,
      "outputs": [
        {
          "output_type": "display_data",
          "data": {
            "text/plain": [
              "<Figure size 640x480 with 1 Axes>"
            ],
            "image/png": "[encoded data removed]"
          },
          "metadata": {}
        }
      ]
    },
    {
      "cell_type": "markdown",
      "source": [
        "## Vanilla\n",
        "\n",
        "Recuerda que, dado un conjunto de punto $\\{(x_i,y_i)\\}_{i=1}^n$, la recta que mejor se ajusta a éstos es\n",
        "$$\n",
        "y = \\beta_0 + \\beta_1x\n",
        "$$\n",
        "donde\n",
        "$$\n",
        "\\beta_1 = \\frac{\\sum_{i=1}^n(x_i-\\bar x)(y_i-\\bar y)}{\\sum_{i=1}^n(x_i-\\bar x)^2} \\quad\\text{y}\\quad \\beta_0 = \\bar y-\\beta_1\\bar x.\n",
        "$$"
      ],
      "metadata": {
        "id": "wceQCcOa5B01"
      }
    },
    {
      "cell_type": "markdown",
      "source": [
        "### Con métodos de `numpy`"
      ],
      "metadata": {
        "id": "RSH3LEIEYL_M"
      }
    },
    {
      "cell_type": "code",
      "source": [
        "matriz = dataframe.to_numpy()\n",
        "\n",
        "b1 = np.sum((matriz[:,0] - matriz[:,0].mean())\\\n",
        "       *(matriz[:,1] - matriz[:,1].mean()))\\\n",
        "       /np.sum((matriz[:,0] - matriz[:,0].mean())**2)\n",
        "b0 = np.mean(matriz[:,1]) - b1*np.mean(matriz[:,0])\n",
        "\n",
        "mensaje = f\"La recta de regresion lineal es:\\ny = {b0} + {b1}x\"\n",
        "print(mensaje)"
      ],
      "metadata": {
        "colab": {
          "base_uri": "https://localhost:8080/"
        },
        "id": "LQDzKHpX6bDM",
        "outputId": "29cf8603-a7b0-4feb-f4b3-2f1a174e087d"
      },
      "execution_count": null,
      "outputs": [
        {
          "output_type": "stream",
          "name": "stdout",
          "text": [
            "La recta de regresion lineal es:\n",
            "y = -286.70853656118925 + 50.383568474088726x\n"
          ]
        }
      ]
    },
    {
      "cell_type": "markdown",
      "source": [
        "### Con métodos de `pandas`"
      ],
      "metadata": {
        "id": "NJYqS1E5YC2g"
      }
    },
    {
      "cell_type": "code",
      "source": [
        "# x = dataframe[\"Gasto en Publicidad\"]\n",
        "# y = dataframe[\"Ventas\"]\n",
        "\n",
        "b1 = ((x-x.mean()).multiply(y-y.mean())).sum() / ((x-x.mean())**2).sum()\n",
        "b0 = y.mean() - b1*x.mean()\n",
        "mensaje = f\"La recta de regresión lineal es:\\ny = {b0} + {b1}x\"\n",
        "print(mensaje)"
      ],
      "metadata": {
        "colab": {
          "base_uri": "https://localhost:8080/"
        },
        "id": "RU7ThtbgTQZ2",
        "outputId": "5e62e4e9-daae-47a9-9fd0-fd765c076c00"
      },
      "execution_count": null,
      "outputs": [
        {
          "output_type": "stream",
          "name": "stdout",
          "text": [
            "La recta de regresión lineal es:\n",
            "y = -286.70853656118925 + 50.383568474088726x\n"
          ]
        }
      ]
    },
    {
      "cell_type": "markdown",
      "source": [
        "Una forma más directa de calcular $\\beta_1$ es notando que\n",
        "$$\n",
        "\\beta_1 = \\frac{s_{xy}}{s_x^2}.\n",
        "$$\n",
        "Es decir, la covarianza de $x$ y $y$ entre la varianza de $x$."
      ],
      "metadata": {
        "id": "9haNlF39WYkg"
      }
    },
    {
      "cell_type": "code",
      "source": [
        "S = dataframe.cov()    # Matriz de covarianza\n",
        "mu = dataframe.mean()  # Vector media\n",
        "b1 = S.iloc[0,1]/S.iloc[0,0]\n",
        "b0 = mu.iloc[1] - b1*mu.iloc[0]\n",
        "\n",
        "mensaje = f\"La recta de regresion lineal es:\\ny = {b0} + {b1}x\"\n",
        "print(mensaje)"
      ],
      "metadata": {
        "colab": {
          "base_uri": "https://localhost:8080/"
        },
        "id": "apjt78A1WyBk",
        "outputId": "7f28b350-d3ae-4817-da28-6e3af5ba2f73"
      },
      "execution_count": null,
      "outputs": [
        {
          "output_type": "stream",
          "name": "stdout",
          "text": [
            "La recta de regresion lineal es:\n",
            "y = 184.7719866413985 + -0.021083571552347365x\n"
          ]
        }
      ]
    },
    {
      "cell_type": "markdown",
      "source": [
        "Para predecir debemos usar la recta de regresión lineal"
      ],
      "metadata": {
        "id": "c8WXj98NaM_8"
      }
    },
    {
      "cell_type": "code",
      "source": [
        "prediccion = lambda x: b0 + b1*x\n",
        "\n",
        "xnew = np.random.uniform(low=150, high=900, size=10)\n",
        "yhat = prediccion(xnew)\n",
        "yhat"
      ],
      "metadata": {
        "colab": {
          "base_uri": "https://localhost:8080/"
        },
        "id": "aVStXFXYaKTy",
        "outputId": "9efbc800-84b7-4a2f-c43a-7bf03329297e"
      },
      "execution_count": null,
      "outputs": [
        {
          "output_type": "execute_result",
          "data": {
            "text/plain": [
              "array([44082.25828798, 35474.8796336 , 40673.2095825 ,  8669.19573075,\n",
              "       18098.24980028, 34135.11985613, 42107.79487411, 12996.49428443,\n",
              "       42427.12839453, 17702.21013304])"
            ]
          },
          "metadata": {},
          "execution_count": 9
        }
      ]
    },
    {
      "cell_type": "markdown",
      "source": [
        "## Con libreria"
      ],
      "metadata": {
        "id": "bN_TeU5H-fLg"
      }
    },
    {
      "cell_type": "code",
      "source": [
        "from sklearn.linear_model import LinearRegression\n",
        "from sklearn.metrics import mean_absolute_error, mean_squared_error"
      ],
      "metadata": {
        "id": "hGh1aBSQ-l1Q"
      },
      "execution_count": null,
      "outputs": []
    },
    {
      "cell_type": "code",
      "source": [
        "# Creando instancia de clase LinearRegression\n",
        "clf = LinearRegression()\n",
        "x = dataframe[[\"Gasto en Publicidad\"]]\n",
        "y = dataframe[[\"Ventas\"]]\n",
        "clf.fit(x, y)"
      ],
      "metadata": {
        "colab": {
          "base_uri": "https://localhost:8080/",
          "height": 75
        },
        "id": "PoBnJB1t--BH",
        "outputId": "e6d53c64-8861-40e7-d666-17ce5a8fb978"
      },
      "execution_count": null,
      "outputs": [
        {
          "output_type": "execute_result",
          "data": {
            "text/plain": [
              "LinearRegression()"
            ],
            "text/html": [
              "<style>#sk-container-id-1 {color: black;background-color: white;}#sk-container-id-1 pre{padding: 0;}#sk-container-id-1 div.sk-toggleable {background-color: white;}#sk-container-id-1 label.sk-toggleable__label {cursor: pointer;display: block;width: 100%;margin-bottom: 0;padding: 0.3em;box-sizing: border-box;text-align: center;}#sk-container-id-1 label.sk-toggleable__label-arrow:before {content: \"▸\";float: left;margin-right: 0.25em;color: #696969;}#sk-container-id-1 label.sk-toggleable__label-arrow:hover:before {color: black;}#sk-container-id-1 div.sk-estimator:hover label.sk-toggleable__label-arrow:before {color: black;}#sk-container-id-1 div.sk-toggleable__content {max-height: 0;max-width: 0;overflow: hidden;text-align: left;background-color: #f0f8ff;}#sk-container-id-1 div.sk-toggleable__content pre {margin: 0.2em;color: black;border-radius: 0.25em;background-color: #f0f8ff;}#sk-container-id-1 input.sk-toggleable__control:checked~div.sk-toggleable__content {max-height: 200px;max-width: 100%;overflow: auto;}#sk-container-id-1 input.sk-toggleable__control:checked~label.sk-toggleable__label-arrow:before {content: \"▾\";}#sk-container-id-1 div.sk-estimator input.sk-toggleable__control:checked~label.sk-toggleable__label {background-color: #d4ebff;}#sk-container-id-1 div.sk-label input.sk-toggleable__control:checked~label.sk-toggleable__label {background-color: #d4ebff;}#sk-container-id-1 input.sk-hidden--visually {border: 0;clip: rect(1px 1px 1px 1px);clip: rect(1px, 1px, 1px, 1px);height: 1px;margin: -1px;overflow: hidden;padding: 0;position: absolute;width: 1px;}#sk-container-id-1 div.sk-estimator {font-family: monospace;background-color: #f0f8ff;border: 1px dotted black;border-radius: 0.25em;box-sizing: border-box;margin-bottom: 0.5em;}#sk-container-id-1 div.sk-estimator:hover {background-color: #d4ebff;}#sk-container-id-1 div.sk-parallel-item::after {content: \"\";width: 100%;border-bottom: 1px solid gray;flex-grow: 1;}#sk-container-id-1 div.sk-label:hover label.sk-toggleable__label {background-color: #d4ebff;}#sk-container-id-1 div.sk-serial::before {content: \"\";position: absolute;border-left: 1px solid gray;box-sizing: border-box;top: 0;bottom: 0;left: 50%;z-index: 0;}#sk-container-id-1 div.sk-serial {display: flex;flex-direction: column;align-items: center;background-color: white;padding-right: 0.2em;padding-left: 0.2em;position: relative;}#sk-container-id-1 div.sk-item {position: relative;z-index: 1;}#sk-container-id-1 div.sk-parallel {display: flex;align-items: stretch;justify-content: center;background-color: white;position: relative;}#sk-container-id-1 div.sk-item::before, #sk-container-id-1 div.sk-parallel-item::before {content: \"\";position: absolute;border-left: 1px solid gray;box-sizing: border-box;top: 0;bottom: 0;left: 50%;z-index: -1;}#sk-container-id-1 div.sk-parallel-item {display: flex;flex-direction: column;z-index: 1;position: relative;background-color: white;}#sk-container-id-1 div.sk-parallel-item:first-child::after {align-self: flex-end;width: 50%;}#sk-container-id-1 div.sk-parallel-item:last-child::after {align-self: flex-start;width: 50%;}#sk-container-id-1 div.sk-parallel-item:only-child::after {width: 0;}#sk-container-id-1 div.sk-dashed-wrapped {border: 1px dashed gray;margin: 0 0.4em 0.5em 0.4em;box-sizing: border-box;padding-bottom: 0.4em;background-color: white;}#sk-container-id-1 div.sk-label label {font-family: monospace;font-weight: bold;display: inline-block;line-height: 1.2em;}#sk-container-id-1 div.sk-label-container {text-align: center;}#sk-container-id-1 div.sk-container {/* jupyter's `normalize.less` sets `[hidden] { display: none; }` but bootstrap.min.css set `[hidden] { display: none !important; }` so we also need the `!important` here to be able to override the default hidden behavior on the sphinx rendered scikit-learn.org. See: https://github.com/scikit-learn/scikit-learn/issues/21755 */display: inline-block !important;position: relative;}#sk-container-id-1 div.sk-text-repr-fallback {display: none;}</style><div id=\"sk-container-id-1\" class=\"sk-top-container\"><div class=\"sk-text-repr-fallback\"><pre>LinearRegression()</pre><b>In a Jupyter environment, please rerun this cell to show the HTML representation or trust the notebook. <br />On GitHub, the HTML representation is unable to render, please try loading this page with nbviewer.org.</b></div><div class=\"sk-container\" hidden><div class=\"sk-item\"><div class=\"sk-estimator sk-toggleable\"><input class=\"sk-toggleable__control sk-hidden--visually\" id=\"sk-estimator-id-1\" type=\"checkbox\" checked><label for=\"sk-estimator-id-1\" class=\"sk-toggleable__label sk-toggleable__label-arrow\">LinearRegression</label><div class=\"sk-toggleable__content\"><pre>LinearRegression()</pre></div></div></div></div></div>"
            ]
          },
          "metadata": {},
          "execution_count": 11
        }
      ]
    },
    {
      "cell_type": "code",
      "source": [
        "mensaje = \\\n",
        "f\"\"\"La recta de regresion lineal es:\\n\\\n",
        "y = {clf.intercept_[0]} + {clf.coef_[0][0]}x\"\"\"\n",
        "print(mensaje)"
      ],
      "metadata": {
        "colab": {
          "base_uri": "https://localhost:8080/"
        },
        "id": "D7RyY4N2_uvM",
        "outputId": "e6809968-00dd-45a9-da36-16b93e1d6837"
      },
      "execution_count": null,
      "outputs": [
        {
          "output_type": "stream",
          "name": "stdout",
          "text": [
            "La recta de regresion lineal es:\n",
            "y = -286.70853656120016 + 50.38356847408875x\n"
          ]
        }
      ]
    },
    {
      "cell_type": "code",
      "source": [
        "pred = clf.predict(x)\n",
        "plt.scatter(x, y, label = \"Observado\")\n",
        "plt.plot(x, pred, label = \"Predicción\", c = \"red\")\n",
        "plt.xlabel(\"Gasto en Publicidad\")\n",
        "plt.ylabel(\"Ventas\")\n",
        "plt.title(\"Regresión Lineal Simple\")\n",
        "plt.legend()\n",
        "plt.show()"
      ],
      "metadata": {
        "colab": {
          "base_uri": "https://localhost:8080/",
          "height": 472
        },
        "id": "ULamuuA1Ainz",
        "outputId": "786dda00-a807-4cf0-f620-c0995330cf25"
      },
      "execution_count": null,
      "outputs": [
        {
          "output_type": "display_data",
          "data": {
            "text/plain": [
              "<Figure size 640x480 with 1 Axes>"
            ],
            "image/png": "[encoded data removed]"
          },
          "metadata": {}
        }
      ]
    }
  ]
}